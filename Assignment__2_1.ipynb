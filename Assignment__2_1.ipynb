{
  "nbformat": 4,
  "nbformat_minor": 0,
  "metadata": {
    "colab": {
      "provenance": []
    },
    "kernelspec": {
      "name": "python3",
      "display_name": "Python 3"
    },
    "language_info": {
      "name": "python"
    }
  },
  "cells": [
    {
      "cell_type": "code",
      "source": [
        "# 41. Check if the intersection of two sets is empty.\n",
        "\n",
        "set1 = {2 ,45, 67, 889, 43}\n",
        "set2 = {23, 344, 56, 678}\n",
        "\n",
        "intersection_result = set1.intersection(set2)\n",
        "\n",
        "if not intersection_result:\n",
        "  print(\"the intersection of two sets is empty\")\n",
        "\n",
        "else:\n",
        "  print(\"the intersection of two sets is not empty\")"
      ],
      "metadata": {
        "id": "K8Yij-32S8Kj",
        "colab": {
          "base_uri": "https://localhost:8080/"
        },
        "outputId": "7493cf1d-05da-4223-ae76-9dd68ebf343f"
      },
      "execution_count": null,
      "outputs": [
        {
          "output_type": "stream",
          "name": "stdout",
          "text": [
            "the intersection of two sets is empty\n"
          ]
        }
      ]
    },
    {
      "cell_type": "code",
      "source": [
        "# 42 Create a set of the first 5 Fibonacci numbers.\n",
        "\n",
        "\n",
        "fibonacci_set = set()\n",
        "\n",
        "a, b = 0, 1\n",
        "for _ in range(6):\n",
        "  fibonacci_set.add(a)\n",
        "  a, b = b, a + b\n",
        "\n",
        "print(fibonacci_set)"
      ],
      "metadata": {
        "colab": {
          "base_uri": "https://localhost:8080/"
        },
        "id": "Hh071BIeTcXG",
        "outputId": "03941d18-a649-48f0-af2a-d8ec9bf06d8f"
      },
      "execution_count": null,
      "outputs": [
        {
          "output_type": "stream",
          "name": "stdout",
          "text": [
            "{0, 1, 2, 3, 5}\n"
          ]
        }
      ]
    },
    {
      "cell_type": "code",
      "source": [
        "# 43. Remove duplicates from a list using sets.\n",
        "\n",
        "original_list = [2, 4, 6, 8, 9, 10, 12, 24, 25, 28, 30]\n",
        "\n",
        "unique_set = set(original_list)\n",
        "\n",
        "unique_list = list(unique_set)\n",
        "\n",
        "print(original_list)\n",
        "print(unique_list)\n"
      ],
      "metadata": {
        "colab": {
          "base_uri": "https://localhost:8080/"
        },
        "id": "wUIYCuXxThcx",
        "outputId": "8d4455ce-2395-4a47-ad2e-9e918e65fe4b"
      },
      "execution_count": null,
      "outputs": [
        {
          "output_type": "stream",
          "name": "stdout",
          "text": [
            "[2, 4, 6, 8, 9, 10, 12, 24, 25, 28, 30]\n",
            "[2, 4, 6, 8, 9, 10, 12, 24, 25, 28, 30]\n"
          ]
        }
      ]
    },
    {
      "cell_type": "code",
      "source": [
        "# 44. Check if two sets have the same elements, regardless of their count.\n",
        "\n",
        "def have_same_elements(set1, set2):\n",
        "  sorted_list1 = sorted(list(set1))\n",
        "  sorted_list2 = sorted(list(set2))\n",
        "\n",
        "  return sorted_list1 == sorted_list2\n",
        "\n",
        "set1 = {1,2,3,4,5}\n",
        "set2 = {3,4,5}\n",
        "\n",
        "result = have_same_elements(set1, set2)\n",
        "\n",
        "if result:\n",
        "  print(\"the sets have the same elements\")\n",
        "\n",
        "else:\n",
        "  print(\"the set do not have the same element\")"
      ],
      "metadata": {
        "colab": {
          "base_uri": "https://localhost:8080/"
        },
        "id": "8ekl8ufQTl7-",
        "outputId": "5671abff-f530-4445-c1d3-6ae96a90e48e"
      },
      "execution_count": null,
      "outputs": [
        {
          "output_type": "stream",
          "name": "stdout",
          "text": [
            "the set do not have the same element\n"
          ]
        }
      ]
    },
    {
      "cell_type": "code",
      "source": [
        "# 45. Create a set of the first `n` powers of 2.\n",
        "def generate_powers_of_2(n):\n",
        "  power_of_2 = set()\n",
        "\n",
        "  for i in range(n):\n",
        "    power = 2 ** i\n",
        "    power_of_2.add(power)\n",
        "\n",
        "  return power_of_2\n",
        "n = 5\n",
        "power_set = generate_powers_of_2(n)\n",
        "print(power_set)"
      ],
      "metadata": {
        "colab": {
          "base_uri": "https://localhost:8080/"
        },
        "id": "-RQKdsLtTrnG",
        "outputId": "f01ebf1e-7af2-4344-d8a7-9e0e25e1ebaa"
      },
      "execution_count": null,
      "outputs": [
        {
          "output_type": "stream",
          "name": "stdout",
          "text": [
            "{1, 2, 4, 8, 16}\n"
          ]
        }
      ]
    },
    {
      "cell_type": "code",
      "source": [
        "# 46. Find the common elements between a set and a list.\n",
        "\n",
        "my_set = {4,8,9,23,12,56}\n",
        "my_list = [7,12,5,6]\n",
        "\n",
        "list_to_set = set(my_list)\n",
        "common_elements = []\n",
        "\n",
        "for element in my_set:\n",
        "  if element in list_to_set:\n",
        "    common_elements.append(element)\n",
        "\n",
        "print(common_elements)\n"
      ],
      "metadata": {
        "colab": {
          "base_uri": "https://localhost:8080/"
        },
        "id": "q3mydgmRXgeC",
        "outputId": "585b2139-ad48-4a55-cd53-9c00ecf464dc"
      },
      "execution_count": null,
      "outputs": [
        {
          "output_type": "stream",
          "name": "stdout",
          "text": [
            "[12]\n"
          ]
        }
      ]
    },
    {
      "cell_type": "code",
      "source": [
        "# 47. Create a set of the first `n` triangular numbers.\n",
        "def generate_triangular_numbers(n):\n",
        "  triangular_numbers = set()\n",
        "  for i in range(1, n + 1):\n",
        "    triangular_number = i * (i + 1) // 2\n",
        "     triangular_numbers.add(triangular_number)\n",
        "  return triangular_numbers\n",
        "\n",
        "n = int(input(\"Enter the value of n:\"))\n",
        "\n",
        "triangular_set = generate_triangular_numbers(n)\n",
        "\n",
        "print(triangular_set)"
      ],
      "metadata": {
        "id": "eYBjzTOdXlMN",
        "colab": {
          "base_uri": "https://localhost:8080/",
          "height": 144
        },
        "outputId": "c93bde3e-5420-4138-d1e6-ab73f71f3408"
      },
      "execution_count": 6,
      "outputs": [
        {
          "output_type": "error",
          "ename": "IndentationError",
          "evalue": "unexpected indent (<ipython-input-6-b87af5309218>, line 6)",
          "traceback": [
            "\u001b[0;36m  File \u001b[0;32m\"<ipython-input-6-b87af5309218>\"\u001b[0;36m, line \u001b[0;32m6\u001b[0m\n\u001b[0;31m    triangular_numbers.add(triangular_number)\u001b[0m\n\u001b[0m    ^\u001b[0m\n\u001b[0;31mIndentationError\u001b[0m\u001b[0;31m:\u001b[0m unexpected indent\n"
          ]
        }
      ]
    },
    {
      "cell_type": "code",
      "source": [
        "  # 48. Check if a set contains another set as a subset.\n",
        "\n",
        "  set1 = {10, 20, 30, 40, 50}\n",
        "  set2 = {30, 40}\n",
        "\n",
        "  is_subset = set2.issubset(set1)\n",
        "\n",
        "  if is_subset:\n",
        "    print(\"set2 is a subset of set1\")\n",
        "\n",
        "  else:\n",
        "    print(\"set2 is not a subset of set1\")"
      ],
      "metadata": {
        "id": "notR7ICZXoLt",
        "colab": {
          "base_uri": "https://localhost:8080/"
        },
        "outputId": "9e7cc56f-9d59-49d4-e841-4f4da8875b9e"
      },
      "execution_count": 7,
      "outputs": [
        {
          "output_type": "stream",
          "name": "stdout",
          "text": [
            "set2 is a subset of set1\n"
          ]
        }
      ]
    },
    {
      "cell_type": "code",
      "source": [
        "# 49. Create a set of alternating 1s and 0s of length `n`.\n",
        "\n",
        "def create_alternating_set(n):\n",
        "    alternating_set = set()\n",
        "    for i in range(n):\n",
        "      if i % 2 == 0:\n",
        "        alternating_set.add(1)\n",
        "      else:\n",
        "        alternating_set.add(0)\n",
        "\n",
        "    return alternating_set\n",
        "\n",
        "length_n = 10\n",
        "result = create_alternating_set(length_n)\n",
        "print(result)"
      ],
      "metadata": {
        "id": "Z8wSiaZ7Xrig",
        "colab": {
          "base_uri": "https://localhost:8080/"
        },
        "outputId": "343539af-3bd0-4224-8198-975cdb456b4e"
      },
      "execution_count": 10,
      "outputs": [
        {
          "output_type": "stream",
          "name": "stdout",
          "text": [
            "{0, 1}\n"
          ]
        }
      ]
    },
    {
      "cell_type": "code",
      "source": [
        "# 50. Merge multiple sets into one.\n",
        "set1 = {1, 2, 3}\n",
        "set2 = {3, 4, 5}\n",
        "set3 = {5, 6, 7}\n",
        "\n",
        "merged_set = set1.union(set2, set3)\n",
        "\n",
        "print(merged_set)\n"
      ],
      "metadata": {
        "id": "XGAUNdwRXxB2",
        "colab": {
          "base_uri": "https://localhost:8080/"
        },
        "outputId": "fafce570-4dfb-486a-861c-45d5db2a5d87"
      },
      "execution_count": 11,
      "outputs": [
        {
          "output_type": "stream",
          "name": "stdout",
          "text": [
            "{1, 2, 3, 4, 5, 6, 7}\n"
          ]
        }
      ]
    },
    {
      "cell_type": "code",
      "source": [],
      "metadata": {
        "id": "cY8LdLsQX0WQ"
      },
      "execution_count": null,
      "outputs": []
    }
  ]
}