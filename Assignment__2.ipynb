{
  "nbformat": 4,
  "nbformat_minor": 0,
  "metadata": {
    "colab": {
      "provenance": []
    },
    "kernelspec": {
      "name": "python3",
      "display_name": "Python 3"
    },
    "language_info": {
      "name": "python"
    }
  },
  "cells": [
    {
      "cell_type": "code",
      "execution_count": null,
      "metadata": {
        "id": "TNLj2J-nbfQB"
      },
      "outputs": [],
      "source": [
        "# TOPIC: String Based Assignment Problem\n",
        "\n"
      ]
    },
    {
      "cell_type": "code",
      "source": [
        "# 1. Write a program to reverse a string."
      ],
      "metadata": {
        "id": "UHsXNedFb9Df"
      },
      "execution_count": null,
      "outputs": []
    },
    {
      "cell_type": "code",
      "source": [
        "def reverse_string(input_string):\n",
        "\n",
        "    reversed_string = \"\"\n",
        "\n",
        "    for char in input_string:\n",
        "        reversed_string = char + reversed_string\n",
        "    return reversed_string"
      ],
      "metadata": {
        "id": "U7F0gG3xeh3b"
      },
      "execution_count": null,
      "outputs": []
    },
    {
      "cell_type": "code",
      "source": [
        "# 2 Check if a string is a palindrome"
      ],
      "metadata": {
        "id": "cHhnbh4vfSWm"
      },
      "execution_count": null,
      "outputs": []
    },
    {
      "cell_type": "code",
      "source": [
        "def is_palindrome(s):\n",
        "  s = s.lower()\n",
        "  s = ''.join(e for e in s if e.isalnum())\n",
        "  return s==s[::-1]"
      ],
      "metadata": {
        "id": "R4JukftZ-lGa"
      },
      "execution_count": null,
      "outputs": []
    },
    {
      "cell_type": "code",
      "source": [
        "print(is_palindrome(\"vineet\"))"
      ],
      "metadata": {
        "colab": {
          "base_uri": "https://localhost:8080/"
        },
        "id": "PvJledvi_UhF",
        "outputId": "f4b04ef3-9bd3-4158-8d7c-ad4930d7f779"
      },
      "execution_count": null,
      "outputs": [
        {
          "output_type": "stream",
          "name": "stdout",
          "text": [
            "False\n"
          ]
        }
      ]
    },
    {
      "cell_type": "code",
      "source": [
        "print(is_palindrome(\"luul\"))"
      ],
      "metadata": {
        "colab": {
          "base_uri": "https://localhost:8080/"
        },
        "id": "EzbdgvIG_nYv",
        "outputId": "1ea08d7a-efec-4c08-f6df-90e2d33c2404"
      },
      "execution_count": null,
      "outputs": [
        {
          "output_type": "stream",
          "name": "stdout",
          "text": [
            "True\n"
          ]
        }
      ]
    },
    {
      "cell_type": "code",
      "source": [
        "# 3. Convert a string to uppercase.\n",
        "input_string = input(\"enter string\")\n",
        "uppercase_string = input_string.upper()\n",
        "print(\"uppercsae string:\", uppercase_string)\n"
      ],
      "metadata": {
        "colab": {
          "base_uri": "https://localhost:8080/"
        },
        "id": "ijr-z8Em_0uv",
        "outputId": "142cca53-1c31-415a-eff7-bc016934d03f"
      },
      "execution_count": null,
      "outputs": [
        {
          "output_type": "stream",
          "name": "stdout",
          "text": [
            "enter stringmy name is vinit billore\n",
            "uppercsae string: MY NAME IS VINIT BILLORE\n"
          ]
        }
      ]
    },
    {
      "cell_type": "code",
      "source": [
        "# 4. Convert a string to lowercase.\n",
        "input_string = input(\"enter string\")\n",
        "lowercase_string = input_string.lower()\n",
        "print(\"lowercase string:\", lowercase_string)"
      ],
      "metadata": {
        "colab": {
          "base_uri": "https://localhost:8080/"
        },
        "id": "ZslGlsPKBs1Q",
        "outputId": "dc3703f8-bd5e-44f5-a3ec-98dd964e698e"
      },
      "execution_count": null,
      "outputs": [
        {
          "output_type": "stream",
          "name": "stdout",
          "text": [
            "enter stringI AM CIVIL ENGINEER\n",
            "lowercase string: i am civil engineer\n"
          ]
        }
      ]
    },
    {
      "cell_type": "code",
      "source": [
        "from itertools import count\n",
        "#5. Count the number of vowels in a string.\n",
        "string = \"I AM indipendent\"\n",
        "vowels = \"aeiouAEIOU\"\n",
        "count = sum(string.count(vowel) for vowel in vowels)\n",
        "print(count)"
      ],
      "metadata": {
        "colab": {
          "base_uri": "https://localhost:8080/"
        },
        "id": "MHFtkQGMCUZC",
        "outputId": "b700e96f-b3fc-4be4-bb37-ac4d07f64240"
      },
      "execution_count": null,
      "outputs": [
        {
          "output_type": "stream",
          "name": "stdout",
          "text": [
            "6\n"
          ]
        }
      ]
    },
    {
      "cell_type": "code",
      "source": [
        "# 6. Count the number of consonants in a string.\n",
        "string = \"I AM indipendent\"\n",
        "consonants = \"BCDFGHJKLMNPQRTVWXYZ\"\n",
        "count = sum(string.count(consonant) for cononant in consonants)\n",
        "print(count)"
      ],
      "metadata": {
        "colab": {
          "base_uri": "https://localhost:8080/",
          "height": 331
        },
        "id": "cqZqfn5eE6XV",
        "outputId": "06d82625-740f-4661-cf1d-9a16462d4047"
      },
      "execution_count": null,
      "outputs": [
        {
          "output_type": "error",
          "ename": "NameError",
          "evalue": "name 'consonant' is not defined",
          "traceback": [
            "\u001b[0;31m---------------------------------------------------------------------------\u001b[0m",
            "\u001b[0;31mNameError\u001b[0m                                 Traceback (most recent call last)",
            "\u001b[0;32m<ipython-input-18-a990dfe0a609>\u001b[0m in \u001b[0;36m<cell line: 4>\u001b[0;34m()\u001b[0m\n\u001b[1;32m      2\u001b[0m \u001b[0mstring\u001b[0m \u001b[0;34m=\u001b[0m \u001b[0;34m\"I AM indipendent\"\u001b[0m\u001b[0;34m\u001b[0m\u001b[0;34m\u001b[0m\u001b[0m\n\u001b[1;32m      3\u001b[0m \u001b[0mconsonants\u001b[0m \u001b[0;34m=\u001b[0m \u001b[0;34m\"BCDFGHJKLMNPQRTVWXYZ\"\u001b[0m\u001b[0;34m\u001b[0m\u001b[0;34m\u001b[0m\u001b[0m\n\u001b[0;32m----> 4\u001b[0;31m \u001b[0mcount\u001b[0m \u001b[0;34m=\u001b[0m \u001b[0msum\u001b[0m\u001b[0;34m(\u001b[0m\u001b[0mstring\u001b[0m\u001b[0;34m.\u001b[0m\u001b[0mcount\u001b[0m\u001b[0;34m(\u001b[0m\u001b[0mconsonant\u001b[0m\u001b[0;34m)\u001b[0m \u001b[0;32mfor\u001b[0m \u001b[0mcononant\u001b[0m \u001b[0;32min\u001b[0m \u001b[0mconsonants\u001b[0m\u001b[0;34m)\u001b[0m\u001b[0;34m\u001b[0m\u001b[0;34m\u001b[0m\u001b[0m\n\u001b[0m\u001b[1;32m      5\u001b[0m \u001b[0mprint\u001b[0m\u001b[0;34m(\u001b[0m\u001b[0mcount\u001b[0m\u001b[0;34m)\u001b[0m\u001b[0;34m\u001b[0m\u001b[0;34m\u001b[0m\u001b[0m\n",
            "\u001b[0;32m<ipython-input-18-a990dfe0a609>\u001b[0m in \u001b[0;36m<genexpr>\u001b[0;34m(.0)\u001b[0m\n\u001b[1;32m      2\u001b[0m \u001b[0mstring\u001b[0m \u001b[0;34m=\u001b[0m \u001b[0;34m\"I AM indipendent\"\u001b[0m\u001b[0;34m\u001b[0m\u001b[0;34m\u001b[0m\u001b[0m\n\u001b[1;32m      3\u001b[0m \u001b[0mconsonants\u001b[0m \u001b[0;34m=\u001b[0m \u001b[0;34m\"BCDFGHJKLMNPQRTVWXYZ\"\u001b[0m\u001b[0;34m\u001b[0m\u001b[0;34m\u001b[0m\u001b[0m\n\u001b[0;32m----> 4\u001b[0;31m \u001b[0mcount\u001b[0m \u001b[0;34m=\u001b[0m \u001b[0msum\u001b[0m\u001b[0;34m(\u001b[0m\u001b[0mstring\u001b[0m\u001b[0;34m.\u001b[0m\u001b[0mcount\u001b[0m\u001b[0;34m(\u001b[0m\u001b[0mconsonant\u001b[0m\u001b[0;34m)\u001b[0m \u001b[0;32mfor\u001b[0m \u001b[0mcononant\u001b[0m \u001b[0;32min\u001b[0m \u001b[0mconsonants\u001b[0m\u001b[0;34m)\u001b[0m\u001b[0;34m\u001b[0m\u001b[0;34m\u001b[0m\u001b[0m\n\u001b[0m\u001b[1;32m      5\u001b[0m \u001b[0mprint\u001b[0m\u001b[0;34m(\u001b[0m\u001b[0mcount\u001b[0m\u001b[0;34m)\u001b[0m\u001b[0;34m\u001b[0m\u001b[0;34m\u001b[0m\u001b[0m\n",
            "\u001b[0;31mNameError\u001b[0m: name 'consonant' is not defined"
          ]
        }
      ]
    },
    {
      "cell_type": "code",
      "source": [
        "# 6. Count the number of consonants in a string.\n",
        "def count_consonants(string):\n",
        "  consonants_count = 0\n",
        "\n",
        "  consonants = \"bcdfghjklmnportvwxyzBCDFGHJKLMNPQRTVWXYZ\"\n",
        "  for char in string:\n",
        "    if char in consonants:\n",
        "      consonants_count += 1\n",
        "  return consonants_count\n"
      ],
      "metadata": {
        "id": "AUZtxZHOHZyP"
      },
      "execution_count": null,
      "outputs": []
    },
    {
      "cell_type": "code",
      "source": [
        "count_consonants(\"i am vinit billore I AM Civil ENGINEER\")"
      ],
      "metadata": {
        "colab": {
          "base_uri": "https://localhost:8080/"
        },
        "id": "lN90NEGoKTZu",
        "outputId": "b2964a62-d42b-42b9-9734-6792be3b929b"
      },
      "execution_count": null,
      "outputs": [
        {
          "output_type": "execute_result",
          "data": {
            "text/plain": [
              "17"
            ]
          },
          "metadata": {},
          "execution_count": 23
        }
      ]
    },
    {
      "cell_type": "code",
      "source": [
        "# 7. Remove all whitespaces from a string.\n",
        "def remove_whitespaces(input_string):\n",
        "  result = \"\"\n",
        "  for char in input_string:\n",
        "    if char != \" \":\n",
        "      result += char\n",
        "  return result"
      ],
      "metadata": {
        "id": "lrC-6rxkKztH"
      },
      "execution_count": null,
      "outputs": []
    },
    {
      "cell_type": "code",
      "source": [
        "remove_whitespaces(\"i used to play cricker\")"
      ],
      "metadata": {
        "colab": {
          "base_uri": "https://localhost:8080/",
          "height": 36
        },
        "id": "KlMc6y_TNtNm",
        "outputId": "8cef9af9-3a11-42d8-cc44-0efcc981a6fb"
      },
      "execution_count": null,
      "outputs": [
        {
          "output_type": "execute_result",
          "data": {
            "text/plain": [
              "'iusedtoplaycricker'"
            ],
            "application/vnd.google.colaboratory.intrinsic+json": {
              "type": "string"
            }
          },
          "metadata": {},
          "execution_count": 25
        }
      ]
    },
    {
      "cell_type": "code",
      "source": [
        "remove_whitespaces(\"I as trying to built my carrer in DS industry\")"
      ],
      "metadata": {
        "colab": {
          "base_uri": "https://localhost:8080/",
          "height": 36
        },
        "id": "BwJe4uCuN7qB",
        "outputId": "630ec7f6-2394-4ef7-8a54-6675b85fa4ee"
      },
      "execution_count": null,
      "outputs": [
        {
          "output_type": "execute_result",
          "data": {
            "text/plain": [
              "'IastryingtobuiltmycarrerinDSindustry'"
            ],
            "application/vnd.google.colaboratory.intrinsic+json": {
              "type": "string"
            }
          },
          "metadata": {},
          "execution_count": 26
        }
      ]
    },
    {
      "cell_type": "code",
      "source": [
        "# 8 Find the length of a string without using the `len()` function.\n",
        "variable_name = (\"my name is vineet\")\n",
        "\n",
        "count = 0\n",
        "\n",
        "for car in variable_name:\n",
        "  count += 1\n",
        "\n",
        "print(\"the lenth of the string:\", count)"
      ],
      "metadata": {
        "colab": {
          "base_uri": "https://localhost:8080/"
        },
        "id": "HDLnCikzOIoe",
        "outputId": "66d92d69-8ad5-4fdd-d3bb-95edce3cdf2f"
      },
      "execution_count": null,
      "outputs": [
        {
          "output_type": "stream",
          "name": "stdout",
          "text": [
            "the lenth of the string: 17\n"
          ]
        }
      ]
    },
    {
      "cell_type": "code",
      "source": [
        "# 10. Replace a word in a string with another word.\n",
        "input_string = input(\"enter your taxt\")\n",
        "oldword = input(\"enter old word\")\n",
        "newword = input(\"enter a new word\")\n",
        "modifi_string = input_string.replace(oldword,newword)\n",
        "print(modifi_string)"
      ],
      "metadata": {
        "id": "RsqocxEKQpjC",
        "colab": {
          "base_uri": "https://localhost:8080/"
        },
        "outputId": "255485c6-4afd-494c-fdd9-caf7ea6ecf64"
      },
      "execution_count": null,
      "outputs": [
        {
          "output_type": "stream",
          "name": "stdout",
          "text": [
            "enter your taxti want to become civil engineer\n",
            "enter old wordcivil\n",
            "enter a new worddata\n",
            "i want to become data engineer\n"
          ]
        }
      ]
    },
    {
      "cell_type": "code",
      "source": [
        "# 11. Count the occurrences of a word in a string.\n",
        "def count_word_occurrences(input_string,target_word):\n",
        "  word_count = 0\n",
        "  words = input_string.split()\n",
        "  for word in words:\n",
        "    if word == target_word:\n",
        "      word_count += 1\n",
        "  return word_count\n",
        "\n"
      ],
      "metadata": {
        "id": "aBTswh62IPoh"
      },
      "execution_count": null,
      "outputs": []
    },
    {
      "cell_type": "code",
      "source": [
        "count_word_occurrences(\"property is occupied by custome property is not in good condition property situete on main road\" , \"property\")"
      ],
      "metadata": {
        "colab": {
          "base_uri": "https://localhost:8080/"
        },
        "id": "raiGWz37QWRB",
        "outputId": "dba4a54e-3e75-4c0b-d603-110e3ee5038b"
      },
      "execution_count": null,
      "outputs": [
        {
          "output_type": "execute_result",
          "data": {
            "text/plain": [
              "3"
            ]
          },
          "metadata": {},
          "execution_count": 6
        }
      ]
    },
    {
      "cell_type": "code",
      "source": [
        "#12. Find the first occurrence of a word in a string.\n",
        "def first_occurrence(input_string,target_word):\n",
        "  index =   input_string.find(target_word)\n",
        "  if index == -1:\n",
        "    return none\n",
        "  return index\n",
        "first_occurrence(\"property is occupied by custome property is not in good condition property situete on main road\" , \"is\")"
      ],
      "metadata": {
        "colab": {
          "base_uri": "https://localhost:8080/"
        },
        "id": "WyI2IwZKQvkn",
        "outputId": "f3fd0506-0175-4b9b-d3ef-d8625d0e30d5"
      },
      "execution_count": null,
      "outputs": [
        {
          "output_type": "execute_result",
          "data": {
            "text/plain": [
              "9"
            ]
          },
          "metadata": {},
          "execution_count": 22
        }
      ]
    },
    {
      "cell_type": "code",
      "source": [
        "# 13. Find the last occurrence of a word in a string.\n",
        "def last_occurrence(input_string,target_word):\n",
        "  index =   input_string.rfind(target_word)\n",
        "  if index == -1:\n",
        "    return none\n",
        "  return index\n",
        "last_occurrence(\"property is occupied by custome property is not in good condition property situete on main road\" , \"is\")\n"
      ],
      "metadata": {
        "colab": {
          "base_uri": "https://localhost:8080/"
        },
        "id": "mvWaDBhoS0W2",
        "outputId": "40c154e5-e164-4309-db48-76bbb2973892"
      },
      "execution_count": null,
      "outputs": [
        {
          "output_type": "execute_result",
          "data": {
            "text/plain": [
              "41"
            ]
          },
          "metadata": {},
          "execution_count": 23
        }
      ]
    },
    {
      "cell_type": "code",
      "source": [
        "#14. Split a string into a list of words.\n",
        "def split_string(text):\n",
        "  words_list = text.split()\n",
        "  return words_list\n",
        "text = \"my name is vickey\"\n",
        "words = split_string(text)\n",
        "print(\"List of words:\", words)"
      ],
      "metadata": {
        "colab": {
          "base_uri": "https://localhost:8080/"
        },
        "id": "KI4gqFiPUmCY",
        "outputId": "f9662d25-72b0-453d-82f4-63fcd9c4840e"
      },
      "execution_count": null,
      "outputs": [
        {
          "output_type": "stream",
          "name": "stdout",
          "text": [
            "List of words: ['my', 'name', 'is', 'vickey']\n"
          ]
        }
      ]
    },
    {
      "cell_type": "code",
      "source": [
        "  # 15. Join a list of words into a string.\n",
        "\n",
        "def join_words_into_string(words_list):\n",
        "    joined_string = ' '.join(words_list)\n",
        "    return joined_string\n",
        "words_list = [\"id\", \"wewrf\", \"egberb\"]\n",
        "text = join_words_into_string(words_list)\n",
        "print(text)"
      ],
      "metadata": {
        "colab": {
          "base_uri": "https://localhost:8080/"
        },
        "id": "zxE0D08hWDHX",
        "outputId": "b12bfbae-0780-4e37-dcc7-8f41eb798250"
      },
      "execution_count": null,
      "outputs": [
        {
          "output_type": "stream",
          "name": "stdout",
          "text": [
            "id wewrf egberb\n"
          ]
        }
      ]
    },
    {
      "cell_type": "code",
      "source": [
        "  # 16. Convert a string where words are separated by spaces to one where words\n",
        "# are separated by underscores.\n",
        "\n",
        "def converted_string(text):\n",
        "    underscor_sepret = text.replace(\" \", \"_\")\n",
        "    return underscor_sepret\n"
      ],
      "metadata": {
        "id": "t8BN_iOCZ-lD"
      },
      "execution_count": null,
      "outputs": []
    },
    {
      "cell_type": "code",
      "source": [
        "converted_string(\"my name is vinnet i an good in cricket\")"
      ],
      "metadata": {
        "colab": {
          "base_uri": "https://localhost:8080/",
          "height": 36
        },
        "id": "w82_c_Z7dSgq",
        "outputId": "d1d29650-6da6-41d1-c283-daf6ae3f88b3"
      },
      "execution_count": null,
      "outputs": [
        {
          "output_type": "execute_result",
          "data": {
            "text/plain": [
              "'my_name_is_vinnet_i_an_good_in_cricket'"
            ],
            "application/vnd.google.colaboratory.intrinsic+json": {
              "type": "string"
            }
          },
          "metadata": {},
          "execution_count": 42
        }
      ]
    },
    {
      "cell_type": "code",
      "source": [
        "# 17. Check if a string starts with a specific word or phrase.\n",
        "def starts_with(text, specific):\n",
        "  start = text.startswith(specific)\n",
        "  return start\n",
        "\n",
        "text = \"my name is vineet billore\"\n",
        "specific = \"my\"\n",
        "result = starts_with(text, specific)\n",
        "if result:\n",
        "  print(\"the text start from specific\")\n",
        "else:\n",
        "  print(\"not stare from specific\")"
      ],
      "metadata": {
        "id": "eKLhjKGMdge2",
        "colab": {
          "base_uri": "https://localhost:8080/"
        },
        "outputId": "975e3d30-123d-4061-94db-1d83b5a64725"
      },
      "execution_count": null,
      "outputs": [
        {
          "output_type": "stream",
          "name": "stdout",
          "text": [
            "the text start from specific\n"
          ]
        }
      ]
    },
    {
      "cell_type": "code",
      "source": [
        "# 19. Convert a string to title case (e.g., \"hello world\" to \"Hello World\").\n",
        "def conert_to_title_case(text):\n",
        " title_case_text = text.title()\n",
        " return title_case_text"
      ],
      "metadata": {
        "id": "BEmBACUqDzWV"
      },
      "execution_count": null,
      "outputs": []
    },
    {
      "cell_type": "code",
      "source": [
        "conert_to_title_case(\"hello world\")"
      ],
      "metadata": {
        "colab": {
          "base_uri": "https://localhost:8080/",
          "height": 36
        },
        "id": "reo31i-LEc8m",
        "outputId": "4a8a1ae2-46e2-45ac-a1c2-f1befadf8d48"
      },
      "execution_count": null,
      "outputs": [
        {
          "output_type": "execute_result",
          "data": {
            "text/plain": [
              "'Hello World'"
            ],
            "application/vnd.google.colaboratory.intrinsic+json": {
              "type": "string"
            }
          },
          "metadata": {},
          "execution_count": 18
        }
      ]
    },
    {
      "cell_type": "code",
      "source": [
        "# 20  Find the longest word in a string.\n",
        "def find_longest_word(text):\n",
        "  words = text.split()\n",
        "  longest_word = \"\"\n",
        "  max_length = 0\n",
        "  for word in words:\n",
        "    if len(word) > max_length:\n",
        "      max_length = len(word)\n",
        "      longest_word = word\n",
        "  return longest_word\n",
        "longest_word = find_longest_word(text)"
      ],
      "metadata": {
        "id": "_hZx-UJcEpJm"
      },
      "execution_count": null,
      "outputs": []
    },
    {
      "cell_type": "code",
      "source": [
        "find_longest_word(\"my name is veiine billoorer\")"
      ],
      "metadata": {
        "colab": {
          "base_uri": "https://localhost:8080/",
          "height": 36
        },
        "id": "qLvX1mBpGIlp",
        "outputId": "41cf8f25-525f-4820-fb9c-5b79479fefe2"
      },
      "execution_count": null,
      "outputs": [
        {
          "output_type": "execute_result",
          "data": {
            "text/plain": [
              "'billoorer'"
            ],
            "application/vnd.google.colaboratory.intrinsic+json": {
              "type": "string"
            }
          },
          "metadata": {},
          "execution_count": 25
        }
      ]
    },
    {
      "cell_type": "code",
      "source": [
        "# 21 Find the shortest word in a string.\n",
        "\n",
        "def find_shortest_word(text):\n",
        "  words = text.split()\n",
        "  shortest_word = None\n",
        "  min_length = float('inf')\n",
        "  for word in words:\n",
        "    if len(word) < min_length:\n",
        "      min_length = len(word)\n",
        "      shortest_word = word\n",
        "  return shortest_word\n",
        "  shortest_word = find_shortest_word(text)\n"
      ],
      "metadata": {
        "id": "hiPRjqWvHJVi"
      },
      "execution_count": null,
      "outputs": []
    },
    {
      "cell_type": "code",
      "source": [
        "find_shortest_word (\"my name is vineet billore\")"
      ],
      "metadata": {
        "colab": {
          "base_uri": "https://localhost:8080/",
          "height": 36
        },
        "id": "00QIlS9hLJMf",
        "outputId": "d371fa80-7d3b-40dc-dfff-10b113f56baa"
      },
      "execution_count": null,
      "outputs": [
        {
          "output_type": "execute_result",
          "data": {
            "text/plain": [
              "'my'"
            ],
            "application/vnd.google.colaboratory.intrinsic+json": {
              "type": "string"
            }
          },
          "metadata": {},
          "execution_count": 28
        }
      ]
    },
    {
      "cell_type": "code",
      "source": [
        "# 22  Reverse the order of words in a string.\n",
        "\n",
        "\n",
        "string = \"My name is mohini sharma\"\n",
        "s = string.split()[::-1]\n",
        "L = []\n",
        "for i in s:\n",
        " L.append(i)\n",
        "print(\" \".join(L))"
      ],
      "metadata": {
        "colab": {
          "base_uri": "https://localhost:8080/"
        },
        "id": "vhIxRDTbLdW7",
        "outputId": "78cf75e8-7dbd-499b-9eff-6b08041318f6"
      },
      "execution_count": null,
      "outputs": [
        {
          "output_type": "stream",
          "name": "stdout",
          "text": [
            "sharma mohini is name My\n"
          ]
        }
      ]
    },
    {
      "cell_type": "code",
      "source": [
        "# 23 Check if a string is alphanumeric.\n",
        "txt = \"Company 12\"\n",
        "\n",
        "x = txt.isalnum()\n",
        "\n",
        "print(x)"
      ],
      "metadata": {
        "colab": {
          "base_uri": "https://localhost:8080/"
        },
        "id": "G3Tk1yzZNZLF",
        "outputId": "adc5e2a2-78d0-4452-ff3d-57ba607f2087"
      },
      "execution_count": null,
      "outputs": [
        {
          "output_type": "stream",
          "name": "stdout",
          "text": [
            "True\n"
          ]
        }
      ]
    },
    {
      "cell_type": "code",
      "source": [
        "# 24 Extract all digits from a string.\n",
        "\n",
        "def extract_digits(text):\n",
        "  digits = \" \"\n",
        "  for char in text:\n",
        "    if char.isdigit():\n",
        "      digits += char\n",
        "  return digits\n",
        "text = \"my name is 007 my age is 49\"\n",
        "x = extract_digits(text)\n",
        "print(x)\n"
      ],
      "metadata": {
        "colab": {
          "base_uri": "https://localhost:8080/"
        },
        "id": "rDYD6RqWRqb0",
        "outputId": "93819558-a681-4f66-8d39-6fdd1478ef93"
      },
      "execution_count": null,
      "outputs": [
        {
          "output_type": "stream",
          "name": "stdout",
          "text": [
            " 00749\n"
          ]
        }
      ]
    },
    {
      "cell_type": "code",
      "source": [
        "# 25 Extract all alphabets from a string.\n",
        "\n",
        "def extract_alphabets(text):\n",
        "  alphabets = ''.join([char for char in text if char.isalpha()])\n",
        "  return alphabets\n",
        "\n",
        "text = \"my ap id is 223336 my age is 56\"\n",
        "x = extract_alphabets(text)\n",
        "print(x)"
      ],
      "metadata": {
        "colab": {
          "base_uri": "https://localhost:8080/"
        },
        "id": "ujRypsxHS-FV",
        "outputId": "ab7f78af-4af9-437f-aa86-b151630a8b91"
      },
      "execution_count": null,
      "outputs": [
        {
          "output_type": "stream",
          "name": "stdout",
          "text": [
            "myapidismyageis\n"
          ]
        }
      ]
    },
    {
      "cell_type": "code",
      "source": [
        "# 26 Count the number of uppercase letters in a string\n",
        "\n",
        "  def count_uppercase(text):\n",
        "    uppercase_count = sum(1 for char in text if char.isupper())\n",
        "    return uppercase_count\n",
        "  text = \"MY Name is VINEET\"\n",
        "  result = count_uppercase(text)\n",
        "  print(result)"
      ],
      "metadata": {
        "colab": {
          "base_uri": "https://localhost:8080/",
          "height": 140
        },
        "id": "4QNh_x9MOHN5",
        "outputId": "3da80475-f401-412e-fc4e-ed7cc12ffc6b"
      },
      "execution_count": null,
      "outputs": [
        {
          "output_type": "error",
          "ename": "IndentationError",
          "evalue": "unexpected indent (<ipython-input-20-ed75dee10d70>, line 3)",
          "traceback": [
            "\u001b[0;36m  File \u001b[0;32m\"<ipython-input-20-ed75dee10d70>\"\u001b[0;36m, line \u001b[0;32m3\u001b[0m\n\u001b[0;31m    def count_uppercase(text):\u001b[0m\n\u001b[0m    ^\u001b[0m\n\u001b[0;31mIndentationError\u001b[0m\u001b[0;31m:\u001b[0m unexpected indent\n"
          ]
        }
      ]
    },
    {
      "cell_type": "code",
      "source": [
        "  # 27 Count the number of lowercase letters in a string.\n",
        "def count_lowercase(text):\n",
        "  lowercase_count = sum(1 for char in text if char.islower())\n",
        "  return lowercase_count\n",
        "text = \"my Name IS VIneet\"\n",
        "result = count_lowercase(text)\n",
        "print(result)\n"
      ],
      "metadata": {
        "colab": {
          "base_uri": "https://localhost:8080/"
        },
        "id": "KZnF5rSEQJ08",
        "outputId": "c165fb0d-434a-46ab-b09d-bbcaa91c0707"
      },
      "execution_count": null,
      "outputs": [
        {
          "output_type": "stream",
          "name": "stdout",
          "text": [
            "9\n"
          ]
        }
      ]
    },
    {
      "cell_type": "code",
      "source": [
        "# 28 Swap the case of each character in a string.\n",
        "\n",
        "def swep_case(text):\n",
        "  swapped_string = text.swapcase()\n",
        "  return swapped_string\n",
        "text = \"my name is VINEET BILLORE\"\n",
        "result = swep_case(text)\n",
        "print(result)"
      ],
      "metadata": {
        "colab": {
          "base_uri": "https://localhost:8080/"
        },
        "id": "T9AwgcEbTG0r",
        "outputId": "6e91f182-8ac4-4958-ec1a-60f37a76bcb2"
      },
      "execution_count": null,
      "outputs": [
        {
          "output_type": "stream",
          "name": "stdout",
          "text": [
            "MY NAME IS vineet billore\n"
          ]
        }
      ]
    },
    {
      "cell_type": "code",
      "source": [
        "from typing_extensions import Text\n",
        "# 29 Remove a specific word from a string.\n",
        "\n",
        "def remove_specific_word(text, word_to_remove):\n",
        "  words = text.split()\n",
        "  filtered_word = [word for word in words if word != word_to_remove]\n",
        "  modified_string = '  '.join(filtered_word)\n",
        "  return modified_string\n",
        "text = \"property value is high when property situeted on main roads\"\n",
        "word_to_remove = \"property\"\n",
        "result = remove_specific_word(text, word_to_remove)\n",
        "print(result)"
      ],
      "metadata": {
        "colab": {
          "base_uri": "https://localhost:8080/"
        },
        "id": "73XC6ZoGVUsG",
        "outputId": "2aa2a19b-da51-4afa-95dd-b11a87638920"
      },
      "execution_count": null,
      "outputs": [
        {
          "output_type": "stream",
          "name": "stdout",
          "text": [
            "value  is  high  when  situeted  on  main  roads\n"
          ]
        }
      ]
    },
    {
      "cell_type": "code",
      "source": [
        "# 30 Check if a string is a valid email address.\n",
        "import re\n",
        "def is_valid_email(email):\n",
        "    pattern = r'!@#$^&&*()+_-'\n",
        "    if re.match(pattern,email):\n",
        "      return True\n",
        "    else:\n",
        "      return False\n",
        "\n",
        "email1 = \"example@email.com\"\n",
        "email2 = \"invalid-email\"\n",
        "result1 = is_valid_email(email1)\n",
        "result2 = is_valid_email(email2)\n",
        "print(result1)\n",
        "print(result2)"
      ],
      "metadata": {
        "colab": {
          "base_uri": "https://localhost:8080/",
          "height": 366
        },
        "id": "kp8g2QjgXipQ",
        "outputId": "b5222847-1834-47ba-e84c-0b48f0878e96"
      },
      "execution_count": null,
      "outputs": [
        {
          "output_type": "error",
          "ename": "NameError",
          "evalue": "name 're' is not defined",
          "traceback": [
            "\u001b[0;31m---------------------------------------------------------------------------\u001b[0m",
            "\u001b[0;31mNameError\u001b[0m                                 Traceback (most recent call last)",
            "\u001b[0;32m<ipython-input-29-c1029ce79715>\u001b[0m in \u001b[0;36m<cell line: 12>\u001b[0;34m()\u001b[0m\n\u001b[1;32m     10\u001b[0m \u001b[0memail1\u001b[0m \u001b[0;34m=\u001b[0m \u001b[0;34m\"example@email.com\"\u001b[0m\u001b[0;34m\u001b[0m\u001b[0;34m\u001b[0m\u001b[0m\n\u001b[1;32m     11\u001b[0m \u001b[0memail2\u001b[0m \u001b[0;34m=\u001b[0m \u001b[0;34m\"invalid-email\"\u001b[0m\u001b[0;34m\u001b[0m\u001b[0;34m\u001b[0m\u001b[0m\n\u001b[0;32m---> 12\u001b[0;31m \u001b[0mresult1\u001b[0m \u001b[0;34m=\u001b[0m \u001b[0mis_valid_email\u001b[0m\u001b[0;34m(\u001b[0m\u001b[0memail1\u001b[0m\u001b[0;34m)\u001b[0m\u001b[0;34m\u001b[0m\u001b[0;34m\u001b[0m\u001b[0m\n\u001b[0m\u001b[1;32m     13\u001b[0m \u001b[0mresult2\u001b[0m \u001b[0;34m=\u001b[0m \u001b[0mis_valid_email\u001b[0m\u001b[0;34m(\u001b[0m\u001b[0memail2\u001b[0m\u001b[0;34m)\u001b[0m\u001b[0;34m\u001b[0m\u001b[0;34m\u001b[0m\u001b[0m\n\u001b[1;32m     14\u001b[0m \u001b[0mprint\u001b[0m\u001b[0;34m(\u001b[0m\u001b[0mresult1\u001b[0m\u001b[0;34m)\u001b[0m\u001b[0;34m\u001b[0m\u001b[0;34m\u001b[0m\u001b[0m\n",
            "\u001b[0;32m<ipython-input-29-c1029ce79715>\u001b[0m in \u001b[0;36mis_valid_email\u001b[0;34m(email)\u001b[0m\n\u001b[1;32m      3\u001b[0m \u001b[0;32mdef\u001b[0m \u001b[0mis_valid_email\u001b[0m\u001b[0;34m(\u001b[0m\u001b[0memail\u001b[0m\u001b[0;34m)\u001b[0m\u001b[0;34m:\u001b[0m\u001b[0;34m\u001b[0m\u001b[0;34m\u001b[0m\u001b[0m\n\u001b[1;32m      4\u001b[0m     \u001b[0mpattern\u001b[0m \u001b[0;34m=\u001b[0m \u001b[0;34mr'!@#$^&&*()+_-'\u001b[0m\u001b[0;34m\u001b[0m\u001b[0;34m\u001b[0m\u001b[0m\n\u001b[0;32m----> 5\u001b[0;31m     \u001b[0;32mif\u001b[0m \u001b[0mre\u001b[0m\u001b[0;34m.\u001b[0m\u001b[0mmatch\u001b[0m\u001b[0;34m(\u001b[0m\u001b[0mpattern\u001b[0m\u001b[0;34m,\u001b[0m\u001b[0memail\u001b[0m\u001b[0;34m)\u001b[0m\u001b[0;34m:\u001b[0m\u001b[0;34m\u001b[0m\u001b[0;34m\u001b[0m\u001b[0m\n\u001b[0m\u001b[1;32m      6\u001b[0m       \u001b[0;32mreturn\u001b[0m \u001b[0;32mTrue\u001b[0m\u001b[0;34m\u001b[0m\u001b[0;34m\u001b[0m\u001b[0m\n\u001b[1;32m      7\u001b[0m     \u001b[0;32melse\u001b[0m\u001b[0;34m:\u001b[0m\u001b[0;34m\u001b[0m\u001b[0;34m\u001b[0m\u001b[0m\n",
            "\u001b[0;31mNameError\u001b[0m: name 're' is not defined"
          ]
        }
      ]
    },
    {
      "cell_type": "code",
      "source": [
        "# 31. Extract the username from an email address string.\n",
        "def extract_username(email):\n",
        "  username = email.split('@')[0]\n",
        "  return username\n",
        "email = \"vineetbillore@gmail.com\"\n",
        "result = extract_username(email)\n",
        "print(result)"
      ],
      "metadata": {
        "id": "Gc-TikRnjQlY",
        "colab": {
          "base_uri": "https://localhost:8080/"
        },
        "outputId": "557c9c89-733b-4ee2-9415-6c785faa23d0"
      },
      "execution_count": null,
      "outputs": [
        {
          "output_type": "stream",
          "name": "stdout",
          "text": [
            "vineetbillore\n"
          ]
        }
      ]
    },
    {
      "cell_type": "code",
      "source": [
        "  # 32 . Extract the domain name from an email address string.\n",
        "\n",
        "  def extract_domain_name(email):\n",
        "    domain_name = email.split('@')[1]\n",
        "    return  domain_name\n",
        "  email = \"vineetbillore@email.com\"\n",
        "  result = extract_domain_name(email)\n",
        "  print(result)"
      ],
      "metadata": {
        "colab": {
          "base_uri": "https://localhost:8080/"
        },
        "id": "whIDS9l8fuUr",
        "outputId": "4478d3df-891f-4d35-c7e3-6fd456f48781"
      },
      "execution_count": null,
      "outputs": [
        {
          "output_type": "stream",
          "name": "stdout",
          "text": [
            "email.com\n"
          ]
        }
      ]
    },
    {
      "cell_type": "code",
      "source": [
        "# 33 Replace multiple spaces in a string with a single space\n",
        "\n",
        "def replace_multiple_spaces(input_string):\n",
        "    cleaned_string = ' '.join(input_string.split())\n",
        "    return cleaned_string\n",
        "input_string = \"my  name     is vineet    billore\"\n",
        "result = replace_multiple_spaces(input_string)\n",
        "print(result)"
      ],
      "metadata": {
        "colab": {
          "base_uri": "https://localhost:8080/"
        },
        "id": "frxQF5q2hXDA",
        "outputId": "af7551d0-c0a9-404b-d510-09ece223c86a"
      },
      "execution_count": null,
      "outputs": [
        {
          "output_type": "stream",
          "name": "stdout",
          "text": [
            "my name is vineet billore\n"
          ]
        }
      ]
    },
    {
      "cell_type": "code",
      "source": [
        "# 34 Check if a string is a valid URL.\n",
        "\n",
        "from urllib.parse import urlparse\n",
        "\n",
        "def is_valid_url(url):\n",
        "   try:\n",
        "     result = urlparse(url)\n",
        "     return all([result.scheme, result.netloc])\n",
        "   except ValueError:\n",
        "     return False\n",
        "\n",
        "url1 = \"https://www.example.com\"\n",
        "url2 = \"invalid-url\"\n",
        "result1 = is_valid_url(url1)\n",
        "result2 = is_valid_url(url2)\n",
        "print(result1)\n",
        "print(result2)"
      ],
      "metadata": {
        "colab": {
          "base_uri": "https://localhost:8080/"
        },
        "id": "qv-EwLJZizGn",
        "outputId": "3c53a9a8-c50a-4c08-e880-d50d124a229e"
      },
      "execution_count": null,
      "outputs": [
        {
          "output_type": "stream",
          "name": "stdout",
          "text": [
            "True\n",
            "False\n"
          ]
        }
      ]
    },
    {
      "cell_type": "code",
      "source": [
        "# 35  Extract the protocol (http or https) from a URL string\n",
        "\n",
        "  def extract_protocol(url):\n",
        "    protocol_end = url.find(\"://\")\n",
        "    if protocol_end != -1:\n",
        "       protocol = url[:protocol_end]\n",
        "       return protocol\n",
        "    else:\n",
        "       return None\n",
        "\n",
        "    url1 = \"https://www.example.com\"\n",
        "    url2 = \"http://google.com\"\n",
        "    url3 = \"ftp://ftp.example.com\"\n",
        "\n",
        "  protocol1 = extract_protocol(url1)\n",
        "  protocol2 = extract_protocol(url2)\n",
        "  protocol3 = extract_protocol(url3)\n",
        "\n",
        "  print(\"Protocol 1:\", protocol1)\n",
        "  print(\"Protocol 2:\", protocol2)\n",
        "  print(\"Protocol 3:\", protocol3)"
      ],
      "metadata": {
        "colab": {
          "base_uri": "https://localhost:8080/",
          "height": 140
        },
        "id": "8Wd5VQoblotz",
        "outputId": "438020ed-c662-467d-dda2-83c82dcc9422"
      },
      "execution_count": null,
      "outputs": [
        {
          "output_type": "error",
          "ename": "IndentationError",
          "evalue": "unexpected indent (<ipython-input-23-b6f55cee381b>, line 3)",
          "traceback": [
            "\u001b[0;36m  File \u001b[0;32m\"<ipython-input-23-b6f55cee381b>\"\u001b[0;36m, line \u001b[0;32m3\u001b[0m\n\u001b[0;31m    def extract_protocol(url):\u001b[0m\n\u001b[0m    ^\u001b[0m\n\u001b[0;31mIndentationError\u001b[0m\u001b[0;31m:\u001b[0m unexpected indent\n"
          ]
        }
      ]
    },
    {
      "cell_type": "code",
      "source": [
        "# 36. Find the frequency of each character in a string.\n",
        "\n",
        "  def character_frequency (input_string):\n",
        "    frequency = {}\n",
        "    for char in input_string:\n",
        "      if char in frequency:\n",
        "        frequency[char] += 1\n",
        "      else:\n",
        "        frequency[char] = 1\n",
        "    return frequency\n",
        "\n",
        "  input_str = \"i am vieet billore\"\n",
        "\n",
        "  char_freq = character_frequency(input_str)\n",
        "\n",
        "  for char, freq in char_freq.items():\n",
        "    print(f\"character:'{char}', Frequency:{freq}\")"
      ],
      "metadata": {
        "id": "wSBt4xQzvmCn",
        "colab": {
          "base_uri": "https://localhost:8080/",
          "height": 140
        },
        "outputId": "47905ed7-da97-4fcb-cd31-403b0d5b2e64"
      },
      "execution_count": null,
      "outputs": [
        {
          "output_type": "error",
          "ename": "IndentationError",
          "evalue": "unexpected indent (<ipython-input-25-dbb7dfd375fd>, line 3)",
          "traceback": [
            "\u001b[0;36m  File \u001b[0;32m\"<ipython-input-25-dbb7dfd375fd>\"\u001b[0;36m, line \u001b[0;32m3\u001b[0m\n\u001b[0;31m    def character_frequency (input_string):\u001b[0m\n\u001b[0m    ^\u001b[0m\n\u001b[0;31mIndentationError\u001b[0m\u001b[0;31m:\u001b[0m unexpected indent\n"
          ]
        }
      ]
    },
    {
      "cell_type": "code",
      "source": [
        "# 37. Remove all punctuation from a string.\n",
        "import string\n",
        "def remove_punctuation(input_string):\n",
        "  translator = str.maketrans(\"\",\"\", string.punctuation)\n",
        "  clean_string = input_string.translate(translator)\n",
        "  return clean_string\n",
        "\n",
        "input_string = \"i am vinod's son , nita is my mother ? \"\n",
        "cleaned_str = remove_punctuation(input_string)\n",
        "\n",
        "print(cleaned_str)"
      ],
      "metadata": {
        "id": "GPMK41tx0K5h",
        "colab": {
          "base_uri": "https://localhost:8080/"
        },
        "outputId": "3a87a0d3-a0d8-4bd3-a166-dc8d1f6cf9d3"
      },
      "execution_count": null,
      "outputs": [
        {
          "output_type": "stream",
          "name": "stdout",
          "text": [
            "i am vinods son  nita is my mother  \n"
          ]
        }
      ]
    },
    {
      "cell_type": "code",
      "source": [
        "# 38 Check if a string contains only digits.\n",
        "\n",
        "def contains_only_digits(input_string):\n",
        "  return input_string.isdigit()\n",
        "\n",
        "\n"
      ],
      "metadata": {
        "id": "BlYxD4VuB2BI"
      },
      "execution_count": null,
      "outputs": []
    },
    {
      "cell_type": "code",
      "source": [
        "contains_only_digits(\"my age is 56\")"
      ],
      "metadata": {
        "colab": {
          "base_uri": "https://localhost:8080/"
        },
        "id": "ERSTTDUdC5DJ",
        "outputId": "9722b4d0-4cd4-47df-c200-a917405442d5"
      },
      "execution_count": null,
      "outputs": [
        {
          "output_type": "execute_result",
          "data": {
            "text/plain": [
              "False"
            ]
          },
          "metadata": {},
          "execution_count": 4
        }
      ]
    },
    {
      "cell_type": "code",
      "source": [
        "contains_only_digits(\"i am vineet\")"
      ],
      "metadata": {
        "colab": {
          "base_uri": "https://localhost:8080/"
        },
        "id": "wAx577JWC_rz",
        "outputId": "bfbe9a7b-1d1d-40a5-e6cf-cce6c481b1a0"
      },
      "execution_count": null,
      "outputs": [
        {
          "output_type": "execute_result",
          "data": {
            "text/plain": [
              "False"
            ]
          },
          "metadata": {},
          "execution_count": 5
        }
      ]
    },
    {
      "cell_type": "code",
      "source": [
        "contains_only_digits(\"007\")"
      ],
      "metadata": {
        "colab": {
          "base_uri": "https://localhost:8080/"
        },
        "id": "iLK2mJ3hDC7X",
        "outputId": "2bc796f3-4b35-4f84-ecb3-0c23cecf495d"
      },
      "execution_count": null,
      "outputs": [
        {
          "output_type": "execute_result",
          "data": {
            "text/plain": [
              "True"
            ]
          },
          "metadata": {},
          "execution_count": 6
        }
      ]
    },
    {
      "cell_type": "code",
      "source": [
        "# 39 Check if a string contains only alphabets.\n",
        "\n",
        "def contains_only_alphabets(input_string):\n",
        "  return input_string.isalpha()\n"
      ],
      "metadata": {
        "id": "pjct580ODLhe"
      },
      "execution_count": null,
      "outputs": []
    },
    {
      "cell_type": "code",
      "source": [
        "contains_only_alphabets(\"my\")"
      ],
      "metadata": {
        "colab": {
          "base_uri": "https://localhost:8080/"
        },
        "id": "l3HjrhRsDnOy",
        "outputId": "6c0f7f33-53a4-4d73-93c8-2e3b755526bc"
      },
      "execution_count": null,
      "outputs": [
        {
          "output_type": "execute_result",
          "data": {
            "text/plain": [
              "True"
            ]
          },
          "metadata": {},
          "execution_count": 20
        }
      ]
    },
    {
      "cell_type": "code",
      "source": [
        "contains_only_alphabets(\"\")"
      ],
      "metadata": {
        "colab": {
          "base_uri": "https://localhost:8080/"
        },
        "id": "dFr1lYxyDth3",
        "outputId": "8febd0ba-bc08-4311-a72c-3784a142ef06"
      },
      "execution_count": null,
      "outputs": [
        {
          "output_type": "execute_result",
          "data": {
            "text/plain": [
              "False"
            ]
          },
          "metadata": {},
          "execution_count": 13
        }
      ]
    },
    {
      "cell_type": "code",
      "source": [
        "# 40 Convert a string to a list of characters.\n",
        "\n",
        "string = \"i am vineet billore\"\n",
        "list1 = []\n",
        "list1.extend(string)\n",
        "print(list1)"
      ],
      "metadata": {
        "colab": {
          "base_uri": "https://localhost:8080/"
        },
        "id": "r9BxY9WCECT4",
        "outputId": "b15b84a8-3ee2-4623-f5e8-a803e16282e8"
      },
      "execution_count": null,
      "outputs": [
        {
          "output_type": "stream",
          "name": "stdout",
          "text": [
            "['i', ' ', 'a', 'm', ' ', 'v', 'i', 'n', 'e', 'e', 't', ' ', 'b', 'i', 'l', 'l', 'o', 'r', 'e']\n"
          ]
        }
      ]
    },
    {
      "cell_type": "code",
      "source": [
        "# 41 . Check if two strings are anagrams .\n",
        "\n",
        "def are_anagrams(str1, str2):\n",
        "  str1 = str1.replace(\" \",\"\").lower()\n",
        "  str2 = str2.replace(\" \",\"\").lower()\n",
        "\n",
        "  return sorted(str1) == sorted(str2)\n",
        "\n"
      ],
      "metadata": {
        "id": "O20y_jN3GhP4"
      },
      "execution_count": null,
      "outputs": []
    },
    {
      "cell_type": "code",
      "source": [
        "are_anagrams(\"vineet\", \"vinit\")\n"
      ],
      "metadata": {
        "colab": {
          "base_uri": "https://localhost:8080/"
        },
        "id": "OjJaYVIzSCWu",
        "outputId": "31ccf983-cf95-40d2-a007-13e88f049662"
      },
      "execution_count": null,
      "outputs": [
        {
          "output_type": "execute_result",
          "data": {
            "text/plain": [
              "False"
            ]
          },
          "metadata": {},
          "execution_count": 51
        }
      ]
    },
    {
      "cell_type": "code",
      "source": [
        "are_anagrams(\"mohi\", \"himo\")"
      ],
      "metadata": {
        "colab": {
          "base_uri": "https://localhost:8080/"
        },
        "id": "t8BYMWHySFLs",
        "outputId": "c80822ff-b607-457c-d50f-a6c7fa8fe53c"
      },
      "execution_count": null,
      "outputs": [
        {
          "output_type": "execute_result",
          "data": {
            "text/plain": [
              "True"
            ]
          },
          "metadata": {},
          "execution_count": 50
        }
      ]
    },
    {
      "cell_type": "code",
      "source": [
        "# 42 Encode a string using a Caesar cipher.\n",
        "\n",
        "def caesar_cipher(text, shift):\n",
        "   encoded_text = \"\"\n",
        "   for char in text:\n",
        "    if char.isalpha():\n",
        "      encoded_char = chr((ord(char)+ shift-ord('a'))% 26 + ord('a'))\n",
        "    else:\n",
        "      encoded_char = char\n",
        "\n",
        "    encoded_text += encoded_char\n",
        "\n",
        "   return encoded_text\n",
        "\n",
        "text = \"Hello, world!\"\n",
        "shift = 3\n",
        "\n",
        "encoded_text = caesar_cipher(text, shift)\n",
        "print(\"Encoded text:\", encoded_text)"
      ],
      "metadata": {
        "colab": {
          "base_uri": "https://localhost:8080/"
        },
        "id": "y0nZ6Bn3SZAV",
        "outputId": "74fe031d-4ff0-4615-ab4a-6f072721faef"
      },
      "execution_count": null,
      "outputs": [
        {
          "output_type": "stream",
          "name": "stdout",
          "text": [
            "Encoded text: ehoor, zruog!\n"
          ]
        }
      ]
    },
    {
      "cell_type": "code",
      "source": [
        "# 43 Decode a Caesar cipher encoded string.\n",
        "\n",
        "def Caesar_cipher_decoder (text, shift):\n",
        "  decoded_text = \"\"\n",
        "  for char in text:\n",
        "    if char.isalpha():\n",
        "      decoded_char = chr((ord(char)- shift - ord('a'))% 26 + ord('a'))\n",
        "    else:\n",
        "      decoded_char = char\n",
        "    decoded_text += decoded_char\n",
        "  return decoded_text\n",
        "\n",
        "text = \"lopp, zruog!\"\n",
        "shift = 3\n",
        "decoded_text = Caesar_cipher_decoder (text, shift)\n",
        "print (decoded_text)\n",
        "\n"
      ],
      "metadata": {
        "colab": {
          "base_uri": "https://localhost:8080/"
        },
        "id": "IRJFSD2oW_It",
        "outputId": "309d8774-c174-4063-d1cc-0f250cbec988"
      },
      "execution_count": null,
      "outputs": [
        {
          "output_type": "stream",
          "name": "stdout",
          "text": [
            "ilmm, world!\n"
          ]
        }
      ]
    },
    {
      "cell_type": "code",
      "source": [
        "# 44 Find the most frequent word in a string.\n",
        "\n",
        "import re\n",
        "from collections import counter\n",
        "\n",
        "\n",
        "   def most_frequent_word(input_string):\n",
        "    clear_string = re.sub(r'[^\\w\\s]','',input_string).lower()\n",
        "\n",
        "    words = clear_string.split()\n",
        "\n",
        "    word_counter = counter(words)\n",
        "\n",
        "\n",
        "    most_common_word = word_counter.most_common(1)[0][0]\n",
        "\n",
        "      return  most_common_word\n",
        "\n",
        "input_str = \"my name is vineet billore i very spritual person\"\n",
        "most_common = most_frequent_word(input_string)\n",
        "print(most_common)"
      ],
      "metadata": {
        "colab": {
          "base_uri": "https://localhost:8080/",
          "height": 140
        },
        "id": "UXFBqBOCYySt",
        "outputId": "c5104908-e7d3-439b-b68e-e895e1353ed0"
      },
      "execution_count": null,
      "outputs": [
        {
          "output_type": "error",
          "ename": "IndentationError",
          "evalue": "unexpected indent (<ipython-input-5-a063f6cfff41>, line 7)",
          "traceback": [
            "\u001b[0;36m  File \u001b[0;32m\"<ipython-input-5-a063f6cfff41>\"\u001b[0;36m, line \u001b[0;32m7\u001b[0m\n\u001b[0;31m    def most_frequent_word(input_string):\u001b[0m\n\u001b[0m    ^\u001b[0m\n\u001b[0;31mIndentationError\u001b[0m\u001b[0;31m:\u001b[0m unexpected indent\n"
          ]
        }
      ]
    },
    {
      "cell_type": "code",
      "source": [
        "# 46 Count the number of syllables in a string.\n",
        "\n",
        "import re\n",
        "\n",
        "def count_syllables(word):\n",
        "  vowel_groups = re.findall(r'[ariouy]+' , word, re.IGNORECASE)\n",
        "\n",
        "  return len(vowel_groups)\n",
        "\n",
        "word1 = \"hello\"\n",
        "word2 = \"banana\"\n",
        "word3 = \"syllable\"\n",
        "\n",
        "syllables1 = count_syllables(word1)\n",
        "syllables2 = count_syllables(word2)\n",
        "syllables3 = count_syllables(word3)\n",
        "\n",
        "print(f\"'{word1}' has {syllables1} syllables.\")\n",
        "print(f\"'{word2}' has {syllables2} syllables.\")\n",
        "print(f\"'{word3}' has {syllables3} syllables.\")"
      ],
      "metadata": {
        "colab": {
          "base_uri": "https://localhost:8080/"
        },
        "id": "41ZiolAud5h-",
        "outputId": "4858cae2-19cf-413d-e20b-1797f0fb65b8"
      },
      "execution_count": null,
      "outputs": [
        {
          "output_type": "stream",
          "name": "stdout",
          "text": [
            "'hello' has 1 syllables.\n",
            "'banana' has 3 syllables.\n",
            "'syllable' has 2 syllables.\n"
          ]
        }
      ]
    },
    {
      "cell_type": "code",
      "source": [
        "  # 47 Check if a string contains any special characters.\n",
        "\n",
        "  import re\n",
        "\n",
        "  def contains_special_characters(input_string):\n",
        "    pattern = re.compile(r'[!@#$%^&*()_+{}\\[\\]:;<>,.?~\\\\/]')\n",
        "    match = pattern.search(input_string)\n",
        "    return bool(match)\n",
        "\n",
        "  string1 = \"Hello ,world!\"\n",
        "  string2 = \"This is a test\"\n",
        "  string3 = \"special@characters\"\n",
        "\n",
        "  result1 = contains_special_characters(string1)\n",
        "  result2 = contains_special_characters(string2)\n",
        "  result3 = contains_special_characters(string3)\n",
        "\n",
        "  print(f\"'{string1}' contains special characters:\", result1)\n",
        "  print(f\"'{string2}' contains special characters:\", result2)\n",
        "  print(f\"'{string3}' contains special characters:\", result3)"
      ],
      "metadata": {
        "colab": {
          "base_uri": "https://localhost:8080/"
        },
        "id": "rKfyP90v9RZa",
        "outputId": "2e97025a-37fc-4e1b-ae33-278c28c48cd5"
      },
      "execution_count": null,
      "outputs": [
        {
          "output_type": "stream",
          "name": "stdout",
          "text": [
            "'Hello ,world!' contains special characters: True\n",
            "'this is test' contains special characters: False\n",
            "'special@characters' contains special characters: True\n"
          ]
        }
      ]
    },
    {
      "cell_type": "code",
      "source": [
        "# 48 Remove the nth word from a string\n",
        "\n",
        "def remove_nth_word(input_string, n):\n",
        "\n",
        "  words = input_string.split()\n",
        "  if n >= 1 and n <= len(words):\n",
        "    removed_word = words.pop(n - 1)\n",
        "    modified_string = ' '.join(words)\n",
        "    return modified_string, removed_word\n",
        "  else :\n",
        "       return None, None\n",
        "input_str = \"Today is big day for india rama will be arriving soon\"\n",
        "n_value = 4\n",
        "\n",
        "modified_str, removed_word = remove_nth_word(input_str, n_value)\n",
        "\n",
        "print(\"original string:\" , input_str)\n",
        "if modified_str is not None:\n",
        "  print(\"Modified string:\", modified_str)\n",
        "  print(\"Remove word:\", removed_word)\n",
        "else:\n",
        "  print(\"invalid n value\")"
      ],
      "metadata": {
        "colab": {
          "base_uri": "https://localhost:8080/"
        },
        "id": "2PKpAn4iADTH",
        "outputId": "2d8c6f77-7f6a-4099-dc35-984335d267bf"
      },
      "execution_count": null,
      "outputs": [
        {
          "output_type": "stream",
          "name": "stdout",
          "text": [
            "original string: Today is big day for india rama will be arriving soon\n",
            "Modified string: Today is big for india rama will be arriving soon\n",
            "Remove word: day\n"
          ]
        }
      ]
    },
    {
      "cell_type": "code",
      "source": [
        "# 49 Insert a word at the nth position in a string.\n",
        "\n",
        "def insert_nth_word(input_string, n):\n",
        "\n",
        "\n",
        "  words = input_string.split()\n",
        "\n",
        "  if n >= 1 and n <= len(words):\n",
        "      removed_word = words.pop(n - 1)\n",
        "      modified_string = ' '.join(words)\n",
        "      return modified_string , removed_word\n",
        "  else:\n",
        "     return None, None\n",
        "input_str = \"my name is vineet billore \"\n",
        "n_value = 4\n",
        "modified_str, removed_word = removed_nth_word(input_str, n_value)\n",
        "print(\"original string:\", input_str)\n",
        "\n",
        "  if modified_str is not None:\n",
        "  print(\"Modified string:\", modified_str)\n",
        "  print(\"Removed word:\", removed_word)\n",
        "else:\n",
        "  print(\"Invalid n value.\")\n"
      ],
      "metadata": {
        "id": "FGknJertWFCY",
        "colab": {
          "base_uri": "https://localhost:8080/",
          "height": 140
        },
        "outputId": "928a0806-1b9d-4416-9532-7055939c04c8"
      },
      "execution_count": null,
      "outputs": [
        {
          "output_type": "error",
          "ename": "IndentationError",
          "evalue": "unexpected indent (<ipython-input-25-722ecfa28a2d>, line 19)",
          "traceback": [
            "\u001b[0;36m  File \u001b[0;32m\"<ipython-input-25-722ecfa28a2d>\"\u001b[0;36m, line \u001b[0;32m19\u001b[0m\n\u001b[0;31m    if modified_str is not None:\u001b[0m\n\u001b[0m    ^\u001b[0m\n\u001b[0;31mIndentationError\u001b[0m\u001b[0;31m:\u001b[0m unexpected indent\n"
          ]
        }
      ]
    },
    {
      "cell_type": "code",
      "source": [
        "# 50. Convert a CSV string to a list of lists.\n",
        "\n",
        "def csv_string_to_list(csv_string):\n",
        "  lines = csv_string.split('\\n')\n",
        "  result = []\n",
        "  for line in lines:\n",
        "    fields = line.split(',')\n",
        "    result.append(fields)\n",
        "  return result\n",
        "csv_data = \"Name, Age, Country\\nvineet, 34, India\\npapu, 67, pakistan\\nlalu, 32, combodiya\"\n",
        "list_of_lists = csv_string_to_list(csv_data)\n",
        "for row in list_of_lists:\n",
        "  print(row)\n"
      ],
      "metadata": {
        "colab": {
          "base_uri": "https://localhost:8080/"
        },
        "id": "DIhIrBBbxtvJ",
        "outputId": "7814f0f7-b4a4-40b3-fb54-dccc66405ee5"
      },
      "execution_count": null,
      "outputs": [
        {
          "output_type": "stream",
          "name": "stdout",
          "text": [
            "['Name', ' Age', ' Country']\n",
            "['vineet', ' 34', ' India']\n",
            "['papu', ' 67', ' pakistan']\n",
            "['lalu', ' 32', ' combodiya']\n"
          ]
        }
      ]
    },
    {
      "cell_type": "code",
      "source": [
        "##  List Based Practice Problem\n"
      ],
      "metadata": {
        "id": "MiZ5I-tw7dcD"
      },
      "execution_count": null,
      "outputs": []
    },
    {
      "cell_type": "code",
      "source": [
        "# 1 Create a list with integers from 1 to 10.\n",
        "\n",
        "list1 = [x for x in range(1,11)]\n",
        "print(list1)"
      ],
      "metadata": {
        "colab": {
          "base_uri": "https://localhost:8080/"
        },
        "id": "bmGB3-4878yv",
        "outputId": "e2c71c32-9363-4482-c2f6-37bbdc4c7e4b"
      },
      "execution_count": null,
      "outputs": [
        {
          "output_type": "stream",
          "name": "stdout",
          "text": [
            "[1, 2, 3, 4, 5, 6, 7, 8, 9, 10]\n"
          ]
        }
      ]
    },
    {
      "cell_type": "code",
      "source": [
        "# 2 Find the length of a list without using the `len()` function.\n",
        "def custom_len(input_list):\n",
        "  count = 0\n",
        "  for _ in input_list:\n",
        "    count += 1\n",
        "  return count\n",
        "my_list = [1, 2, 3, 4, 5, 6, 7, 8, 9, 10]\n",
        "length =custom_len(my_list)\n",
        "print(length)"
      ],
      "metadata": {
        "id": "xAg_6abc8JCY",
        "colab": {
          "base_uri": "https://localhost:8080/"
        },
        "outputId": "dd83b0ea-8b49-436b-bb77-bf8e0d3064a9"
      },
      "execution_count": null,
      "outputs": [
        {
          "output_type": "stream",
          "name": "stdout",
          "text": [
            "10\n"
          ]
        }
      ]
    },
    {
      "cell_type": "code",
      "source": [
        "# 3 Append an element to the end of a list.\n",
        "\n",
        "list2 = [1,2,3,4,5,6]\n",
        "element = 7\n",
        "list2.append(element)\n",
        "print(list2)"
      ],
      "metadata": {
        "id": "yuSZpt4vEo9s",
        "colab": {
          "base_uri": "https://localhost:8080/"
        },
        "outputId": "1a98c2be-19e5-4e3a-827a-1ac33286c551"
      },
      "execution_count": null,
      "outputs": [
        {
          "output_type": "stream",
          "name": "stdout",
          "text": [
            "[1, 2, 3, 4, 5, 6, 7]\n"
          ]
        }
      ]
    },
    {
      "cell_type": "code",
      "source": [
        "# 4  Insert an element at a specific index in a list.\n",
        "\n",
        "list3 = [\"vineet\", \"anuj\", \"riya\"]\n",
        "element = \"mohini\"\n",
        "list3.insert(1, element)\n",
        "print(list3)"
      ],
      "metadata": {
        "colab": {
          "base_uri": "https://localhost:8080/"
        },
        "id": "clJAAxAs8J8G",
        "outputId": "7a14b4f5-01bb-4476-87e1-399cc760a1e5"
      },
      "execution_count": null,
      "outputs": [
        {
          "output_type": "stream",
          "name": "stdout",
          "text": [
            "['vineet', 'mohini', 'anuj', 'riya']\n"
          ]
        }
      ]
    },
    {
      "cell_type": "code",
      "source": [
        "# 5 Remove an element from a list by its value.\n",
        "\n",
        "list4 = [1, 2, 3, \"vineet\", \"riya\"]\n",
        "element = \"vineet\"\n",
        "list4.remove(element)\n",
        "print(list4)\n"
      ],
      "metadata": {
        "colab": {
          "base_uri": "https://localhost:8080/"
        },
        "id": "OFQ9F1d3BLSO",
        "outputId": "a5bb8c19-4b9c-4a1c-adec-429b6063266b"
      },
      "execution_count": null,
      "outputs": [
        {
          "output_type": "stream",
          "name": "stdout",
          "text": [
            "[1, 2, 3, 'riya']\n"
          ]
        }
      ]
    },
    {
      "cell_type": "code",
      "source": [
        "# 6 Remove an element from a list by its index.\n",
        "list5 = [1, 2, 3, 4, 5, True, \"vineet\"]\n",
        "index_value_of_element = 5\n",
        "removed_element = list5.pop(index_value_of_element)\n",
        "print(list5)\n",
        "print(removed_element)\n",
        "\n"
      ],
      "metadata": {
        "colab": {
          "base_uri": "https://localhost:8080/"
        },
        "id": "4_gfcfa5CSWC",
        "outputId": "44e3d53c-786f-42a1-afbb-d8671f9915e5"
      },
      "execution_count": null,
      "outputs": [
        {
          "output_type": "stream",
          "name": "stdout",
          "text": [
            "[1, 2, 3, 4, 5, 'vineet']\n",
            "True\n"
          ]
        }
      ]
    },
    {
      "cell_type": "code",
      "source": [
        "# 7 Check if an element exists in a list.\n",
        "\n",
        "list6 = [1, 2, 3, 4, 5, True, \"vineet\", \"mohini\"]\n",
        "element_to_check = \"billore\"\n",
        "\n",
        "if element_to_check in list6:\n",
        "  print(\"yes element is exists\")\n",
        "else:\n",
        "  print(\"no element is not exists\")"
      ],
      "metadata": {
        "colab": {
          "base_uri": "https://localhost:8080/"
        },
        "id": "SzfqyXf6C6nA",
        "outputId": "f469ee20-9cd6-460f-824c-4425a174d93f"
      },
      "execution_count": null,
      "outputs": [
        {
          "output_type": "stream",
          "name": "stdout",
          "text": [
            "no element is not exists\n"
          ]
        }
      ]
    },
    {
      "cell_type": "code",
      "source": [
        "# 8 Find the index of the first occurrence of an element in a list.\n",
        "list7 = [1, 2, 3, 4, 5, True, \"vineet\", \"mohini\"]\n",
        "element = \"mohini\"\n",
        "index =list7.index(element)\n",
        "print(f\"The index of {element} is {index}\")"
      ],
      "metadata": {
        "colab": {
          "base_uri": "https://localhost:8080/"
        },
        "id": "RO4A2yS1E-az",
        "outputId": "aea8decf-ee14-443c-bb4c-88ca0d650e4b"
      },
      "execution_count": null,
      "outputs": [
        {
          "output_type": "stream",
          "name": "stdout",
          "text": [
            "The index of mohini is 7\n"
          ]
        }
      ]
    },
    {
      "cell_type": "code",
      "source": [
        "# 9 Count the occurrences of an element in a list.\n",
        "list8 = [1, 1, 2, 3, 4, 5, 6, 2, 2, 3, 4, 4, 4, 1, 1, 1, 1]\n",
        "element = 1\n",
        "count = list8.count(element)\n",
        "print(count)\n"
      ],
      "metadata": {
        "colab": {
          "base_uri": "https://localhost:8080/"
        },
        "id": "4csmt7OIGgei",
        "outputId": "618d8544-df03-4f51-8b8f-35f9a2b32938"
      },
      "execution_count": null,
      "outputs": [
        {
          "output_type": "stream",
          "name": "stdout",
          "text": [
            "6\n"
          ]
        }
      ]
    },
    {
      "cell_type": "code",
      "source": [
        "# 10  Reverse the order of elements in a list.\n",
        "\n",
        "list9 = [1, 1, 2, 3, 4, 5, 6]\n",
        "reverse_list9 = list9[::-1]\n",
        "print(reverse_list9)"
      ],
      "metadata": {
        "colab": {
          "base_uri": "https://localhost:8080/"
        },
        "id": "ifUwVsuUICIp",
        "outputId": "215f77fe-c921-4a8b-9a99-fe8bd82ab1af"
      },
      "execution_count": null,
      "outputs": [
        {
          "output_type": "stream",
          "name": "stdout",
          "text": [
            "[6, 5, 4, 3, 2, 1, 1]\n"
          ]
        }
      ]
    },
    {
      "cell_type": "code",
      "source": [
        "# 11 Sort a list in ascending order.\n",
        "\n",
        "list10 = [20, 34, 12, 3, 45, 54, 23, 4, 8, 35]\n",
        "list10.sort()\n",
        "print(list10)"
      ],
      "metadata": {
        "colab": {
          "base_uri": "https://localhost:8080/"
        },
        "id": "_XG01UDoItaW",
        "outputId": "275b0947-8ec8-4109-aa06-4bac4708ba7c"
      },
      "execution_count": null,
      "outputs": [
        {
          "output_type": "stream",
          "name": "stdout",
          "text": [
            "[3, 4, 8, 12, 20, 23, 34, 35, 45, 54]\n"
          ]
        }
      ]
    },
    {
      "cell_type": "code",
      "source": [
        "# 12 Sort a list in descending order.\n",
        "\n",
        "list10 = [20, 34, 12, 3, 45, 54, 23, 4, 8, 35]\n",
        "list10.sort(reverse=True)\n",
        "print(list10)"
      ],
      "metadata": {
        "colab": {
          "base_uri": "https://localhost:8080/"
        },
        "id": "0lMJ8iAXJXwo",
        "outputId": "395351c0-d85e-4708-a479-8664326e7bbf"
      },
      "execution_count": null,
      "outputs": [
        {
          "output_type": "stream",
          "name": "stdout",
          "text": [
            "[54, 45, 35, 34, 23, 20, 12, 8, 4, 3]\n"
          ]
        }
      ]
    },
    {
      "cell_type": "code",
      "source": [
        "# 13 Create a list of even numbers from 1 to 20.\n",
        "\n",
        "list11 = [x for x in range (2 , 21 , 2)]\n",
        "\n",
        "print(list11)"
      ],
      "metadata": {
        "colab": {
          "base_uri": "https://localhost:8080/"
        },
        "id": "b-CpUGXDKnE4",
        "outputId": "69e77257-705c-465d-dc7b-02fd56be70ca"
      },
      "execution_count": null,
      "outputs": [
        {
          "output_type": "stream",
          "name": "stdout",
          "text": [
            "[2, 4, 6, 8, 10, 12, 14, 16, 18, 20]\n"
          ]
        }
      ]
    },
    {
      "cell_type": "code",
      "source": [
        "# 14 Create a odd of even numbers from 1 to 20.\n",
        "\n",
        "odd_number_list = [x for x in range (1 , 20 , 2)]\n",
        "\n",
        "print(\"odd numbers are :\", odd_number_list)"
      ],
      "metadata": {
        "id": "QFJ2ZU_rL2-D",
        "colab": {
          "base_uri": "https://localhost:8080/"
        },
        "outputId": "311d8658-3c3a-4418-b38f-77ec4a019540"
      },
      "execution_count": null,
      "outputs": [
        {
          "output_type": "stream",
          "name": "stdout",
          "text": [
            "odd numbers are : [1, 3, 5, 7, 9, 11, 13, 15, 17, 19]\n"
          ]
        }
      ]
    },
    {
      "cell_type": "code",
      "source": [
        "# 15 Find the sum of all elements in a list.\n",
        "\n",
        "list1 = [1, 3, 5, 7, 9, 11, 13, 15, 17, 19]\n",
        "sum_of_list1 = sum(list1)\n",
        "print(sum_of_list1)\n"
      ],
      "metadata": {
        "colab": {
          "base_uri": "https://localhost:8080/"
        },
        "id": "f7lxtwSHjIOZ",
        "outputId": "e7e223bd-aa59-4d1b-8edb-2dfdb411a60b"
      },
      "execution_count": null,
      "outputs": [
        {
          "output_type": "stream",
          "name": "stdout",
          "text": [
            "100\n"
          ]
        }
      ]
    },
    {
      "cell_type": "code",
      "source": [
        "# 16  Find the maximum value in a list.\n",
        "list1 = [1, 3, 5, 7, 9, 11, 13, 15, 17, 19]\n",
        "maximum_value = max(list1)\n",
        "print(maximum_value)\n",
        "\n"
      ],
      "metadata": {
        "colab": {
          "base_uri": "https://localhost:8080/"
        },
        "id": "L17vPWDVjezv",
        "outputId": "8a797697-e9bb-4a45-ddc0-3afe2264aa96"
      },
      "execution_count": null,
      "outputs": [
        {
          "output_type": "stream",
          "name": "stdout",
          "text": [
            "19\n"
          ]
        }
      ]
    },
    {
      "cell_type": "code",
      "source": [
        "# 17  Find the minimum value in a list.\n",
        "list1 = [1, 3, 5, 7, 9, 11, 13, 15, 17, 19]\n",
        "minimum_value = min(list1)\n",
        "print(minimum_value)"
      ],
      "metadata": {
        "colab": {
          "base_uri": "https://localhost:8080/"
        },
        "id": "7mv6TfMykZ3q",
        "outputId": "6bc0d714-5367-489c-c731-93434e24e1e9"
      },
      "execution_count": null,
      "outputs": [
        {
          "output_type": "stream",
          "name": "stdout",
          "text": [
            "1\n"
          ]
        }
      ]
    },
    {
      "cell_type": "code",
      "source": [
        "# 18 Create a list of squares of numbers from 1 to 10.\n",
        "\n",
        "square = [x** 2 for x in range (1 , 11)]\n",
        "\n",
        "print(\"list\" , square)\n"
      ],
      "metadata": {
        "colab": {
          "base_uri": "https://localhost:8080/"
        },
        "id": "gr1gkYwwkpoE",
        "outputId": "87b74576-e26a-4ce5-bf83-a0068329b97b"
      },
      "execution_count": null,
      "outputs": [
        {
          "output_type": "stream",
          "name": "stdout",
          "text": [
            "list [1, 4, 9, 16, 25, 36, 49, 64, 81, 100]\n"
          ]
        }
      ]
    },
    {
      "cell_type": "code",
      "source": [
        "# 19 Create a list of random numbers.\n",
        "\n",
        "import random\n",
        "\n",
        "random_integers = [random.randint(1 , 100) for _ in range(10)]\n",
        "\n",
        "print(\"list of rendom integers:\" , random_integers)"
      ],
      "metadata": {
        "colab": {
          "base_uri": "https://localhost:8080/"
        },
        "id": "1r0teeKsl92D",
        "outputId": "4c7c274a-3305-4a06-8ca6-aec0ea430d2f"
      },
      "execution_count": null,
      "outputs": [
        {
          "output_type": "stream",
          "name": "stdout",
          "text": [
            "list of rendom integers: [16, 18, 33, 88, 30, 34, 55, 93, 92, 18]\n"
          ]
        }
      ]
    },
    {
      "cell_type": "code",
      "source": [
        "# 20 Remove duplicates from a list.\n",
        "\n",
        "list1 = [16, 18, 33, 88, 30, 34, 55, 93, 92, 18, 16, 88, 30, 30, 55]\n",
        "\n",
        "remove_duplicat_list = set(list1)\n",
        "\n",
        "print(remove_duplicat_list)"
      ],
      "metadata": {
        "colab": {
          "base_uri": "https://localhost:8080/"
        },
        "id": "VIpOH7uHm2iW",
        "outputId": "f179f4ad-a9fb-4cc2-979b-8c3c7fc7bab7"
      },
      "execution_count": null,
      "outputs": [
        {
          "output_type": "stream",
          "name": "stdout",
          "text": [
            "{33, 34, 16, 18, 55, 88, 92, 93, 30}\n"
          ]
        }
      ]
    },
    {
      "cell_type": "code",
      "source": [
        "# 21  Find the common elements between two lists.\n",
        "def Common_elements(list1 , list2):\n",
        "  result = [i for i in list1 if i in list2 ]\n",
        "  return result\n",
        "list1 = [10 , 20, 50 ,70]\n",
        "list2 = [20, 70, 80, 100]\n",
        "\n",
        "print(Common_elements(list1 , list2))\n"
      ],
      "metadata": {
        "colab": {
          "base_uri": "https://localhost:8080/"
        },
        "id": "-aDeoR1-nbem",
        "outputId": "a1dc9fda-829f-451f-a6fb-cfed262461e6"
      },
      "execution_count": null,
      "outputs": [
        {
          "output_type": "stream",
          "name": "stdout",
          "text": [
            "[20, 70]\n"
          ]
        }
      ]
    },
    {
      "cell_type": "code",
      "source": [
        "# 22 Find the difference between two lists\n",
        "\n",
        "list1 = [10 , 20, 50 ,70]\n",
        "list2 = [20, 70, 80, 100]\n",
        "\n",
        "difference = list(set(list1).difference(list2))\n",
        "print(difference)"
      ],
      "metadata": {
        "colab": {
          "base_uri": "https://localhost:8080/"
        },
        "id": "fXpEeX6jjuLy",
        "outputId": "43992593-3784-4373-e38c-9dde96a6f388"
      },
      "execution_count": null,
      "outputs": [
        {
          "output_type": "stream",
          "name": "stdout",
          "text": [
            "[50, 10]\n"
          ]
        }
      ]
    },
    {
      "cell_type": "code",
      "source": [
        "# 23 Merge two lists.\n",
        "\n",
        "list1 = [10 , 20, 50 ,70]\n",
        "list2 = [20, 70, 80, 100]\n",
        "\n",
        "list3 = list1 + list2\n",
        "\n",
        "print(list3)"
      ],
      "metadata": {
        "colab": {
          "base_uri": "https://localhost:8080/"
        },
        "id": "8E96YLsplJfz",
        "outputId": "60220dd8-bb8a-45ba-d266-3ca6c1e46643"
      },
      "execution_count": null,
      "outputs": [
        {
          "output_type": "stream",
          "name": "stdout",
          "text": [
            "[10, 20, 50, 70, 20, 70, 80, 100]\n"
          ]
        }
      ]
    },
    {
      "cell_type": "code",
      "source": [
        "# 24 Multiply all elements in a list by 2.\n",
        "list1 = [10 , 20, 50 ,70]\n",
        "\n",
        "list3 = [x*2 for x in list1]\n",
        "\n",
        "print(list3)\n"
      ],
      "metadata": {
        "colab": {
          "base_uri": "https://localhost:8080/"
        },
        "id": "gfp8Zlpgmv7_",
        "outputId": "c9ec1c8b-f35c-4e02-eda9-04b4402edec6"
      },
      "execution_count": null,
      "outputs": [
        {
          "output_type": "stream",
          "name": "stdout",
          "text": [
            "[20, 40, 100, 140]\n"
          ]
        }
      ]
    },
    {
      "cell_type": "code",
      "source": [
        "# 25 Filter out all even numbers from a list.\n",
        "\n",
        "list1 = [2, 3, 4, 6, 7, 9, 10, 20, 50 ,70, 234, 3456]\n",
        "filter_list = [ i for i in list1 if i % 2 == 0 ]\n",
        "print(filter_list)"
      ],
      "metadata": {
        "colab": {
          "base_uri": "https://localhost:8080/"
        },
        "id": "yvlB4eJ5nO6_",
        "outputId": "b26e3eac-be2b-43d5-9d84-dc2607b40bd4"
      },
      "execution_count": null,
      "outputs": [
        {
          "output_type": "stream",
          "name": "stdout",
          "text": [
            "[2, 4, 6, 10, 20, 50, 70, 234, 3456]\n"
          ]
        }
      ]
    },
    {
      "cell_type": "code",
      "source": [
        "# 26 Convert a list of strings to a list of integers.\n",
        "\n",
        "integer_list = [2, 3, 4, 6, 7, 9, 10, 20, 50 ,70, 234, 3456]\n",
        "\n",
        "\n",
        "string_list = [str(x) for x in integer_list]\n",
        "\n",
        "\n",
        "print(\"List of strings:\", string_list)"
      ],
      "metadata": {
        "colab": {
          "base_uri": "https://localhost:8080/"
        },
        "id": "OeDK0JFfoRtj",
        "outputId": "163992d8-46ad-4b76-93d5-74ba7228c1a4"
      },
      "execution_count": null,
      "outputs": [
        {
          "output_type": "stream",
          "name": "stdout",
          "text": [
            "List of strings: ['2', '3', '4', '6', '7', '9', '10', '20', '50', '70', '234', '3456']\n"
          ]
        }
      ]
    },
    {
      "cell_type": "code",
      "source": [
        "# 27  Convert a list of integers to a list of strings.\n",
        "\n",
        "List_of_string = ['10', '20', '30', '40', '50']\n",
        "\n",
        "list_of_integers = [int(x) for x in List_of_string]\n",
        "\n",
        "print(list_of_integers)"
      ],
      "metadata": {
        "colab": {
          "base_uri": "https://localhost:8080/"
        },
        "id": "ULhLutm-r_h9",
        "outputId": "320267f9-4e2c-4dc8-acf2-5b88e51f3d0d"
      },
      "execution_count": null,
      "outputs": [
        {
          "output_type": "stream",
          "name": "stdout",
          "text": [
            "[10, 20, 30, 40, 50]\n"
          ]
        }
      ]
    },
    {
      "cell_type": "code",
      "source": [
        "# 28 Flatten a nested list\n",
        "\n",
        "Nested_list =  [[2, 3, 4] ,[6, 7, 9, 10], [20, 50 ,70, 234, 3456]]\n",
        "\n",
        "def flatten_list(nested):\n",
        "  flattened = []\n",
        "  for sublist in nested:\n",
        "    if isinstance(sublist, list):\n",
        "      flattened.extend(flatten_list(sublist))\n",
        "    else:\n",
        "      flattened.append(sublist)\n",
        "  return flattened\n",
        "flattened_list = flatten_list(Nested_list)\n",
        "\n",
        "print(flattened_list)\n"
      ],
      "metadata": {
        "colab": {
          "base_uri": "https://localhost:8080/"
        },
        "id": "2s4-u3f8uODb",
        "outputId": "333925e6-e782-48bf-e10f-f2668caa37fc"
      },
      "execution_count": null,
      "outputs": [
        {
          "output_type": "stream",
          "name": "stdout",
          "text": [
            "[2, 3, 4, 6, 7, 9, 10, 20, 50, 70, 234, 3456]\n"
          ]
        }
      ]
    },
    {
      "cell_type": "code",
      "source": [
        "# 29 . Create a list of the first 10 Fibonacci numbers.\n",
        "\n",
        "def generate_fibonacci(n):\n",
        "  fibonacci_list = [0,1]\n",
        "  for i in range(2, n):\n",
        "    next_fibonacci = fibonacci_list[i - 1] + fibonacci_list [i - 2]\n",
        "    fibonacci_list.append(next_fibonacci)\n",
        "  return fibonacci_list\n",
        "\n",
        "fibonacci_numbers = generate_fibonacci(2)\n",
        "\n",
        "print(\"frist ten fibonacci numbers:\", fibonacci_numbers)"
      ],
      "metadata": {
        "colab": {
          "base_uri": "https://localhost:8080/"
        },
        "id": "SnrlzA2zxFf4",
        "outputId": "c2252394-15d5-474f-9222-a21c6eb327a5"
      },
      "execution_count": null,
      "outputs": [
        {
          "output_type": "stream",
          "name": "stdout",
          "text": [
            "frist ten fibonacci numbers: [0, 1]\n"
          ]
        }
      ]
    },
    {
      "cell_type": "code",
      "source": [
        "# 30 check if a list is sorted.\n",
        "\n",
        "def is_sorted_ascending(lst):\n",
        "  for i in range(1, len(lst)):\n",
        "        if lst[i] < lst[i - 1]:\n",
        "            return False\n",
        "  return True\n",
        "\n",
        "ascending_list = [1 ,2 ,3 ,4 ,5 ,6 ,7 ,8]\n",
        "\n",
        "if is_sorted_ascending(ascending_list):\n",
        "  print(\"The list is sorted in ascending orded.\")\n",
        "else:\n",
        "  print(\"The list is not sorted\")"
      ],
      "metadata": {
        "colab": {
          "base_uri": "https://localhost:8080/"
        },
        "id": "aKdOPTm84RWz",
        "outputId": "e04f1e6b-bd1c-4aaa-dbd3-e14d71e765b3"
      },
      "execution_count": null,
      "outputs": [
        {
          "output_type": "stream",
          "name": "stdout",
          "text": [
            "The list is sorted in ascending orded.\n"
          ]
        }
      ]
    },
    {
      "cell_type": "code",
      "source": [
        "# 31 Rotate a list to the left by `n` positions.\n",
        "\n",
        "def rotate_left (lst, n):\n",
        "  n = n % len(lst)\n",
        "  rotated = lst[n:] + lst[:n]\n",
        "  return rotated\n",
        "my_list = [1, 2, 3, 4, 5, 6]\n",
        "\n",
        "n = 2\n",
        "\n",
        "rotated_list = rotate_left(my_list, n)\n",
        "\n",
        "print(\"Rotated list:\", rotated_list)"
      ],
      "metadata": {
        "colab": {
          "base_uri": "https://localhost:8080/"
        },
        "id": "kUuezgDG6eP3",
        "outputId": "dafbf6ca-1e5b-4e1c-feae-3200a015964b"
      },
      "execution_count": null,
      "outputs": [
        {
          "output_type": "stream",
          "name": "stdout",
          "text": [
            "Rotated list: [3, 4, 5, 6, 1, 2]\n"
          ]
        }
      ]
    },
    {
      "cell_type": "code",
      "source": [
        "  # 32 Rotate a list to the right by `n` positions.\n",
        "\n",
        "def rotate_right(lst, n):\n",
        "  n = n % len(lst)\n",
        "  rotated = lst[-n:] + lst[:-n]\n",
        "  return rotated\n",
        "\n",
        "my_list = [1, 2, 3, 4, 5, 6, 7, 8]\n",
        "\n",
        "n = 5\n",
        "\n",
        "rotated_list = rotate_right(my_list, n)\n",
        "\n",
        "print(\"rotated list:\", rotated_list)"
      ],
      "metadata": {
        "colab": {
          "base_uri": "https://localhost:8080/"
        },
        "id": "YiJmk9oY_Ley",
        "outputId": "33973e71-fc2b-48a0-85e4-e6f0e25e089d"
      },
      "execution_count": null,
      "outputs": [
        {
          "output_type": "stream",
          "name": "stdout",
          "text": [
            "rotated list: [4, 5, 6, 7, 8, 1, 2, 3]\n"
          ]
        }
      ]
    },
    {
      "cell_type": "code",
      "source": [
        "  # 33 Create a list of prime numbers up to 50.\n",
        "\n",
        "  def is_prime(num):\n",
        "    if num <= 1:\n",
        "      return False\n",
        "    if num <= 3:\n",
        "      return True\n",
        "    if num % 2 == 0 or num % 3 == 0:\n",
        "      return False\n",
        "    i = 5\n",
        "    while i * i <= num:\n",
        "      print(i, num)\n",
        "      if num % i == 0 or num % (i + 2) == 0:\n",
        "        return False\n",
        "      i += 6\n",
        "    return True\n",
        "  prime_numbers = [num for num in range(2,30) if is_prime(num)]\n",
        "\n",
        "  print(prime_numbers)\n",
        "\n"
      ],
      "metadata": {
        "colab": {
          "base_uri": "https://localhost:8080/"
        },
        "id": "7iLatQypA9-Y",
        "outputId": "323a89b3-d087-4539-d3d6-4492930af57c"
      },
      "execution_count": null,
      "outputs": [
        {
          "output_type": "stream",
          "name": "stdout",
          "text": [
            "5 25\n",
            "5 29\n",
            "[2, 3, 5, 7, 11, 13, 17, 19, 23, 29]\n"
          ]
        }
      ]
    },
    {
      "cell_type": "code",
      "source": [
        "# 34 Split a list into chunks of size `n`.\n",
        "\n",
        "def sieve_of_eratosthenes(limit):\n",
        "  primes = []\n",
        "  is_prime = [True] * (limit + 1)\n",
        "  is_prime[0] = is_prime[1] = False\n",
        "\n",
        "  for num in range(2, int(limit ** 0.5) + 1):\n",
        "    if is_prime[num]:\n",
        "      primes.append(num)\n",
        "      for multiple in range(num * num, limit + 1, num):\n",
        "        is_prime[multiple] = False\n",
        "  for num in range(int(limit ** 0.5) + 1, limit + 1):\n",
        "    if is_prime[num]:\n",
        "      primes.append(num)\n",
        "  return primes\n",
        "\n",
        "prime_numbers = sieve_of_eratosthenes(50)\n",
        "print(prime_numbers)\n"
      ],
      "metadata": {
        "colab": {
          "base_uri": "https://localhost:8080/"
        },
        "id": "Q4OJ9RCZFQAv",
        "outputId": "84121a22-e0f0-4bc8-bff4-9abb0d265132"
      },
      "execution_count": null,
      "outputs": [
        {
          "output_type": "stream",
          "name": "stdout",
          "text": [
            "[2, 3, 5, 7, 11, 13, 17, 19, 23, 29, 31, 37, 41, 43, 47]\n"
          ]
        }
      ]
    },
    {
      "cell_type": "code",
      "source": [
        "# 35 Find the second largest number in a list.\n",
        "\n",
        "list1 = [1,2,3,4,56,567,34]\n",
        "\n",
        "sorted_list1 = sorted(set(list1))\n",
        "\n",
        "if len(sorted_list1)  >= 2:\n",
        "  second_largest = sorted_list1[-2]\n",
        "  print(second_largest)\n",
        "else:\n",
        "  print(\"The list does not contain enough elements\")"
      ],
      "metadata": {
        "colab": {
          "base_uri": "https://localhost:8080/"
        },
        "id": "3R60bF2nJFvV",
        "outputId": "d0cdd08e-432c-4e20-8432-f875102b52a2"
      },
      "execution_count": null,
      "outputs": [
        {
          "output_type": "stream",
          "name": "stdout",
          "text": [
            "56\n"
          ]
        }
      ]
    },
    {
      "cell_type": "code",
      "source": [
        "# 36  Replace every element in a list with its square.\n",
        "\n",
        "list1 = [1,2,3,4,56,567,34]\n",
        "\n",
        "square_list = [x**2 for x in list1]\n",
        "\n",
        "print(square_list)"
      ],
      "metadata": {
        "colab": {
          "base_uri": "https://localhost:8080/"
        },
        "id": "goXrQFOwKGxI",
        "outputId": "cb5315f1-1dae-4d0d-c48b-2cb232010007"
      },
      "execution_count": null,
      "outputs": [
        {
          "output_type": "stream",
          "name": "stdout",
          "text": [
            "[1, 4, 9, 16, 3136, 321489, 1156]\n"
          ]
        }
      ]
    },
    {
      "cell_type": "code",
      "source": [
        "# 37 Convert a list to a dictionary where list elements become keys and their indices become values.\n",
        "\n",
        "list1 = [1,2,3,4,56,567,34]\n",
        "\n",
        "Dictionary = {element: index for index, element in enumerate(list1)}\n",
        "\n",
        "print(Dictionary)\n"
      ],
      "metadata": {
        "colab": {
          "base_uri": "https://localhost:8080/"
        },
        "id": "A_EgcnaoL-iV",
        "outputId": "86c3142f-5916-4857-b42f-16087b803b75"
      },
      "execution_count": null,
      "outputs": [
        {
          "output_type": "stream",
          "name": "stdout",
          "text": [
            "{1: 0, 2: 1, 3: 2, 4: 3, 56: 4, 567: 5, 34: 6}\n"
          ]
        }
      ]
    },
    {
      "cell_type": "code",
      "source": [
        "# 38 Shuffle the elements of a list randomly.\n",
        "\n",
        "import random\n",
        "list1 = [1,2,3,4,56,567,34]\n",
        "\n",
        "random.shuffle(list1)\n",
        "\n",
        "print(list1)"
      ],
      "metadata": {
        "colab": {
          "base_uri": "https://localhost:8080/"
        },
        "id": "gLcHzN-hM6UM",
        "outputId": "9ac254fb-98fe-4e73-e53b-ab740e6a6a27"
      },
      "execution_count": null,
      "outputs": [
        {
          "output_type": "stream",
          "name": "stdout",
          "text": [
            "[3, 567, 2, 34, 1, 4, 56]\n"
          ]
        }
      ]
    },
    {
      "cell_type": "code",
      "source": [
        "# 39. Create a list of the first 10 factorial numbers.\n",
        "def factorial(n):\n",
        "  if n == 0 or n == 1:\n",
        "     return 1\n",
        "  else:\n",
        "    return n * factorial(n-1)\n",
        "factorial_numbers = [factorial(i) for i in range(10)]\n",
        "\n",
        "print(factorial_numbers)\n",
        "\n"
      ],
      "metadata": {
        "colab": {
          "base_uri": "https://localhost:8080/"
        },
        "id": "OX_JkcZ_QMel",
        "outputId": "f9e2e150-6e8c-42f2-95a9-a2307c336de2"
      },
      "execution_count": null,
      "outputs": [
        {
          "output_type": "stream",
          "name": "stdout",
          "text": [
            "[1, 1, 2, 6, 24, 120, 720, 5040, 40320, 362880]\n"
          ]
        }
      ]
    },
    {
      "cell_type": "code",
      "source": [
        "# 40 Check if two lists have at least one element in common.\n",
        "\n",
        "def Common_element(list1, list2):\n",
        "  for item in list1:\n",
        "    if item in list2:\n",
        "       return True\n",
        "  return False\n",
        "\n",
        "list1 = [1, 2, 3, 4, 5]\n",
        "list2 = [4, 5, 6, 7, 8]\n",
        "\n",
        "if Common_element(list1, list2):\n",
        "  print(\"The lists have at least one common element.\")\n",
        "else:\n",
        "    print(\"The lists do not have any common elements.\")"
      ],
      "metadata": {
        "colab": {
          "base_uri": "https://localhost:8080/"
        },
        "id": "i68aMiDwRjSt",
        "outputId": "bc0dd02e-c262-4c91-9355-28efa33f1de7"
      },
      "execution_count": null,
      "outputs": [
        {
          "output_type": "stream",
          "name": "stdout",
          "text": [
            "The lists have at least one common element.\n"
          ]
        }
      ]
    },
    {
      "cell_type": "code",
      "source": [
        "\n",
        "# 41 Remove all elements from a list.\n",
        "list2 = [4, 5, 6, 7, 8]\n",
        "\n",
        "list2.clear()\n",
        "\n",
        "print(list2)"
      ],
      "metadata": {
        "colab": {
          "base_uri": "https://localhost:8080/"
        },
        "id": "YgIY8_ayS619",
        "outputId": "6c11a68b-556a-44c7-9b52-1a0b45cfc6b5"
      },
      "execution_count": null,
      "outputs": [
        {
          "output_type": "stream",
          "name": "stdout",
          "text": [
            "[]\n"
          ]
        }
      ]
    },
    {
      "cell_type": "code",
      "source": [
        "# 42 Replace negative numbers in a list with 0.\n",
        "\n",
        "list4 = [-2, 4, 5, 7, -89]\n",
        "\n",
        "for i in range(len(list4)):\n",
        "  if list4[i] < 0:\n",
        "    list4[i] = 0\n",
        "\n",
        "print(list4)"
      ],
      "metadata": {
        "colab": {
          "base_uri": "https://localhost:8080/"
        },
        "id": "prwNPkQLTQqF",
        "outputId": "35c70598-561b-498d-a25c-bee2c368323c"
      },
      "execution_count": null,
      "outputs": [
        {
          "output_type": "stream",
          "name": "stdout",
          "text": [
            "[0, 4, 5, 7, 0]\n"
          ]
        }
      ]
    },
    {
      "cell_type": "code",
      "source": [
        "# 43 Convert a string into a list of words.\n",
        "\n",
        "string =  \" my name is vineet bilore my age is \"\n",
        "list45  = string.split()\n",
        "print(list45)"
      ],
      "metadata": {
        "colab": {
          "base_uri": "https://localhost:8080/"
        },
        "id": "wdpf3mSoUy35",
        "outputId": "b4abcf7d-cc48-4b7e-e213-027f82942c4f"
      },
      "execution_count": null,
      "outputs": [
        {
          "output_type": "stream",
          "name": "stdout",
          "text": [
            "['my', 'name', 'is', 'vineet', 'bilore', 'my', 'age', 'is']\n"
          ]
        }
      ]
    },
    {
      "cell_type": "code",
      "source": [
        "# 44 Convert a list of words into a string.\n",
        "\n",
        "list4 = [\"vineet\", \"mohini\", \"-2\", \"4\", \"5\", \"7\", \"-89\"]\n",
        "string = ' '.join(list4)\n",
        "print(string)"
      ],
      "metadata": {
        "colab": {
          "base_uri": "https://localhost:8080/"
        },
        "id": "s0bsUbYVVPbW",
        "outputId": "bc602c18-7a4e-44d7-9bc8-04b606f1c30f"
      },
      "execution_count": null,
      "outputs": [
        {
          "output_type": "stream",
          "name": "stdout",
          "text": [
            "vineet mohini -2 4 5 7 -89\n"
          ]
        }
      ]
    },
    {
      "cell_type": "code",
      "source": [
        "# 45 Create a list of the first `n` powers of 2.\n",
        "\n",
        "n = 5\n",
        "\n",
        "power_list = [2** i for i in range(n)]\n",
        "\n",
        "print(power_list)"
      ],
      "metadata": {
        "colab": {
          "base_uri": "https://localhost:8080/"
        },
        "id": "WJyITuI9WFec",
        "outputId": "1c9d3627-c3a8-463f-820f-e595bb4f2704"
      },
      "execution_count": null,
      "outputs": [
        {
          "output_type": "stream",
          "name": "stdout",
          "text": [
            "[1, 2, 4, 8, 16]\n"
          ]
        }
      ]
    },
    {
      "cell_type": "code",
      "source": [
        "# 46 Find the longest string in a list of strings.\n",
        "\n",
        "string_list = [\"apple\", \"banana\", \"cherry\", \"date\", \"elderberry\"]\n",
        "\n",
        "longest_string = \"\"\n",
        "for s in string_list:\n",
        "  if len(s) > len(longest_string):\n",
        "    longest_string = s\n",
        "\n",
        "print(longest_string)\n"
      ],
      "metadata": {
        "colab": {
          "base_uri": "https://localhost:8080/"
        },
        "id": "oWkng_KFXomx",
        "outputId": "ba7e63a4-c261-4df7-9944-62bdc6c96641"
      },
      "execution_count": null,
      "outputs": [
        {
          "output_type": "stream",
          "name": "stdout",
          "text": [
            "elderberry\n"
          ]
        }
      ]
    },
    {
      "cell_type": "code",
      "source": [
        "# 47. Find the shortest string in a list of strings.\n",
        "\n",
        "string_list = [\"apple\", \"banana\", \"cherry\", \"date\", \"elderberry\"]\n",
        "\n",
        "shortest_string = string_list[0]\n",
        "for i in string_list:\n",
        "  if len(i) < len(shortest_string):\n",
        "    shortest_string = i\n",
        "print(shortest_string)"
      ],
      "metadata": {
        "id": "fAXS28pAY1i2",
        "colab": {
          "base_uri": "https://localhost:8080/"
        },
        "outputId": "5032ee29-337c-413d-e9a3-e506296e5e52"
      },
      "execution_count": null,
      "outputs": [
        {
          "output_type": "stream",
          "name": "stdout",
          "text": [
            "date\n"
          ]
        }
      ]
    },
    {
      "cell_type": "code",
      "source": [
        "# 48. Create a list of the first `n` triangular numbers.\n",
        "\n",
        "def triangular_numbers(n):\n",
        "  return[i * (i+1)//2 for i in range(1, n+1)]\n",
        "n = 5\n",
        "\n",
        "triangular_list = triangular_numbers(n)\n",
        "\n",
        "print(triangular_list)"
      ],
      "metadata": {
        "colab": {
          "base_uri": "https://localhost:8080/"
        },
        "id": "v4EK983wOI_A",
        "outputId": "713f6065-d0d2-4ae7-9d12-bc93f931b872"
      },
      "execution_count": null,
      "outputs": [
        {
          "output_type": "stream",
          "name": "stdout",
          "text": [
            "[1, 3, 6, 10, 15]\n"
          ]
        }
      ]
    },
    {
      "cell_type": "code",
      "source": [
        "# 49. Check if a list contains another list as a subsequence.\n",
        "\n",
        "def is_subsequence(subsequence ,main_list):\n",
        "  subseq_index = 0\n",
        "  for element in main_list :\n",
        "    if element == subsequence[subseq_index]:\n",
        "      subseq_index += 1\n",
        "      if subseq_index == len(subsequence):\n",
        "        return True\n",
        "  return False\n",
        "\n",
        "main_list = [1, 2, 3, 4, 5, 6, 7, 8, 9, 10]\n",
        "subsequence = [3,5,8]\n",
        "\n",
        "if is_subsequence(subsequence , main_list):\n",
        "\n",
        "  print(\"main list conten the subsequenc\")\n",
        "else:\n",
        "  print(\"main list not conten the subsequenc\")\n",
        "\n"
      ],
      "metadata": {
        "colab": {
          "base_uri": "https://localhost:8080/"
        },
        "id": "OxSIxvp5P50W",
        "outputId": "078230e6-c8f5-4a56-fbe0-231a06e5afaa"
      },
      "execution_count": null,
      "outputs": [
        {
          "output_type": "stream",
          "name": "stdout",
          "text": [
            "main list conten the subsequenc\n"
          ]
        }
      ]
    },
    {
      "cell_type": "code",
      "source": [
        "# 50. Swap two elements in a list by their indices.\n",
        "\n",
        "list1 = [1,2,3,4,5,6,7]\n",
        "\n",
        "index1 = 1\n",
        "index2 = 4\n",
        "index3 = 5\n",
        "temp = list1[index1]\n",
        "list1[index1] = list1[index2]\n",
        "list1[index2] = list1[index3]\n",
        "list1[index3]= temp\n",
        "\n",
        "print(list1)"
      ],
      "metadata": {
        "colab": {
          "base_uri": "https://localhost:8080/"
        },
        "id": "-o0ybTZfSCJB",
        "outputId": "9983b123-328a-4551-b92d-8c001a34d7d1"
      },
      "execution_count": null,
      "outputs": [
        {
          "output_type": "stream",
          "name": "stdout",
          "text": [
            "[1, 5, 3, 4, 6, 2, 7]\n"
          ]
        }
      ]
    },
    {
      "cell_type": "code",
      "source": [
        "# Qus of list has been over __________________________________*________________________________"
      ],
      "metadata": {
        "id": "zqu6ctU0TtMM"
      },
      "execution_count": null,
      "outputs": []
    },
    {
      "cell_type": "code",
      "source": [
        "# 1. Create a tuple with integers from 1 to 5.\n",
        "\n",
        "tuple1 = (1,2,3,4,5)\n",
        "\n",
        "print (tuple1)\n",
        "\n"
      ],
      "metadata": {
        "colab": {
          "base_uri": "https://localhost:8080/"
        },
        "id": "OoTFgXj9UqHs",
        "outputId": "d792a33f-19fb-44f8-c986-777a73a17b37"
      },
      "execution_count": null,
      "outputs": [
        {
          "output_type": "stream",
          "name": "stdout",
          "text": [
            "(1, 2, 3, 4, 5)\n"
          ]
        }
      ]
    },
    {
      "cell_type": "code",
      "source": [
        "type(tuple1)"
      ],
      "metadata": {
        "colab": {
          "base_uri": "https://localhost:8080/"
        },
        "id": "ZUxDizDsU_HM",
        "outputId": "a418db7e-ab6b-4d21-c726-8af237a9c9cf"
      },
      "execution_count": null,
      "outputs": [
        {
          "output_type": "execute_result",
          "data": {
            "text/plain": [
              "tuple"
            ]
          },
          "metadata": {},
          "execution_count": 30
        }
      ]
    },
    {
      "cell_type": "code",
      "source": [
        "# 2. Access the third element of a tuple.\n",
        "\n",
        "tuple1 = (1,2,3,4,5)\n",
        "third_element = tuple1[2]\n",
        "print (third_element)"
      ],
      "metadata": {
        "colab": {
          "base_uri": "https://localhost:8080/"
        },
        "id": "-ITsU-uTVjvW",
        "outputId": "6cb281df-9acf-41de-da01-b8020666732e"
      },
      "execution_count": null,
      "outputs": [
        {
          "output_type": "stream",
          "name": "stdout",
          "text": [
            "3\n"
          ]
        }
      ]
    },
    {
      "cell_type": "code",
      "source": [
        "# 3. Find the length of a tuple without using the `len()` function.\n",
        "\n",
        "tuple1 = (1,2,3,4,5)\n",
        "\n",
        "count = 0\n",
        "\n",
        "for _ in tuple1:\n",
        "  count += 1\n",
        "\n",
        "\n",
        "print(count)"
      ],
      "metadata": {
        "colab": {
          "base_uri": "https://localhost:8080/"
        },
        "id": "wMWvTW1MWj8A",
        "outputId": "4368369a-5a74-42ec-f40b-bb6ad50cf734"
      },
      "execution_count": null,
      "outputs": [
        {
          "output_type": "stream",
          "name": "stdout",
          "text": [
            "5\n"
          ]
        }
      ]
    },
    {
      "cell_type": "code",
      "source": [
        "# 4 Count the occurrences of an element in a tuple.\n",
        "\n",
        "tuple1 = (1,2,1,3,4,5,1,1,1,1,1,1,2,2,3,4,5,5,5,5,)\n",
        "element_to_count  = 5\n",
        "count = 0\n",
        "for item in tuple1:\n",
        "  if item == element_to_count:\n",
        "    count += 1\n",
        "print(count)\n",
        "\n"
      ],
      "metadata": {
        "colab": {
          "base_uri": "https://localhost:8080/"
        },
        "id": "LtoSi5LaXU9Y",
        "outputId": "8268f00d-b6ee-491a-ab7e-b81adfec1e16"
      },
      "execution_count": null,
      "outputs": [
        {
          "output_type": "stream",
          "name": "stdout",
          "text": [
            "5\n"
          ]
        }
      ]
    },
    {
      "cell_type": "code",
      "source": [
        "# 5. Find the index of the first occurrence of an element in a tuple.\n",
        "\n",
        "tuple1 = (1,2,1,3,4,5,1,1,1,1,1,1,2,2,3,4,5,5,5,5,)\n",
        "first_occurrence_element = 3\n",
        "\n",
        "index = -1\n",
        "\n",
        "for i , item in enumerate(tuple1):\n",
        "  if item == first_occurrence_element:\n",
        "    index = i\n",
        "    break\n",
        "if index != -1:\n",
        "  print(index)"
      ],
      "metadata": {
        "colab": {
          "base_uri": "https://localhost:8080/"
        },
        "id": "ZMLZmfcTX9nz",
        "outputId": "7cc5c146-eb9d-488f-ee6b-99236cb81edd"
      },
      "execution_count": null,
      "outputs": [
        {
          "output_type": "stream",
          "name": "stdout",
          "text": [
            "3\n"
          ]
        }
      ]
    },
    {
      "cell_type": "code",
      "source": [
        "# 6. Check if an element exists in a tuple.\n",
        "\n",
        "tuple1 = (1,2,3,4,5,\"vineet\",\"moni\")\n",
        "\n",
        "element_to_check = \"moni\"\n",
        "if element_to_check in tuple1:\n",
        "  print(\"yes\")\n",
        "else:\n",
        "  print(\"no\")\n",
        "\n"
      ],
      "metadata": {
        "colab": {
          "base_uri": "https://localhost:8080/"
        },
        "id": "ARzqS1N0ahnW",
        "outputId": "2b4cdf14-c394-4e07-9473-3aa9d2f10982"
      },
      "execution_count": null,
      "outputs": [
        {
          "output_type": "stream",
          "name": "stdout",
          "text": [
            "yes\n"
          ]
        }
      ]
    },
    {
      "cell_type": "code",
      "source": [
        "# 7 Convert a tuple to a list.\n",
        "\n",
        "tuple_10 = (10, 20, 300, 400, 5000)\n",
        "\n",
        "list_10 = list(tuple_10)\n",
        "\n",
        "print(list_10)\n"
      ],
      "metadata": {
        "colab": {
          "base_uri": "https://localhost:8080/",
          "height": 245
        },
        "id": "hE2BDRB1bI5z",
        "outputId": "8f0773a4-9c9e-4389-8f82-fd404d885f07"
      },
      "execution_count": null,
      "outputs": [
        {
          "output_type": "error",
          "ename": "TypeError",
          "evalue": "'list' object is not callable",
          "traceback": [
            "\u001b[0;31m---------------------------------------------------------------------------\u001b[0m",
            "\u001b[0;31mTypeError\u001b[0m                                 Traceback (most recent call last)",
            "\u001b[0;32m<ipython-input-71-8c532ec4398a>\u001b[0m in \u001b[0;36m<cell line: 5>\u001b[0;34m()\u001b[0m\n\u001b[1;32m      3\u001b[0m \u001b[0mtuple_10\u001b[0m \u001b[0;34m=\u001b[0m \u001b[0;34m(\u001b[0m\u001b[0;36m10\u001b[0m\u001b[0;34m,\u001b[0m \u001b[0;36m20\u001b[0m\u001b[0;34m,\u001b[0m \u001b[0;36m300\u001b[0m\u001b[0;34m,\u001b[0m \u001b[0;36m400\u001b[0m\u001b[0;34m,\u001b[0m \u001b[0;36m5000\u001b[0m\u001b[0;34m)\u001b[0m\u001b[0;34m\u001b[0m\u001b[0;34m\u001b[0m\u001b[0m\n\u001b[1;32m      4\u001b[0m \u001b[0;34m\u001b[0m\u001b[0m\n\u001b[0;32m----> 5\u001b[0;31m \u001b[0mlist_10\u001b[0m \u001b[0;34m=\u001b[0m \u001b[0mlist\u001b[0m\u001b[0;34m(\u001b[0m\u001b[0mtuple_10\u001b[0m\u001b[0;34m)\u001b[0m\u001b[0;34m\u001b[0m\u001b[0;34m\u001b[0m\u001b[0m\n\u001b[0m\u001b[1;32m      6\u001b[0m \u001b[0;34m\u001b[0m\u001b[0m\n\u001b[1;32m      7\u001b[0m \u001b[0mprint\u001b[0m\u001b[0;34m(\u001b[0m\u001b[0mlist_10\u001b[0m\u001b[0;34m)\u001b[0m\u001b[0;34m\u001b[0m\u001b[0;34m\u001b[0m\u001b[0m\n",
            "\u001b[0;31mTypeError\u001b[0m: 'list' object is not callable"
          ]
        }
      ]
    },
    {
      "cell_type": "code",
      "source": [
        "  # 8  convert a list in tuple\n",
        "\n",
        "list = [10, 20, 30, 40, 50]\n",
        "\n",
        "tuple1  = tuple(list)\n",
        "\n",
        "print(tuple1)"
      ],
      "metadata": {
        "colab": {
          "base_uri": "https://localhost:8080/"
        },
        "id": "Te-7j6Elcfh9",
        "outputId": "aca92272-43d3-4aad-c98e-3a28b7c4e985"
      },
      "execution_count": null,
      "outputs": [
        {
          "output_type": "stream",
          "name": "stdout",
          "text": [
            "(10, 20, 30, 40, 50)\n"
          ]
        }
      ]
    },
    {
      "cell_type": "code",
      "source": [
        "# 9 Unpack the elements of a tuple into variables\n",
        "\n",
        "my_tuple = (10, 20, 30, 40, 50)\n",
        "\n",
        "var1 , var2, var3, var4, var5 = my_tuple\n",
        "\n",
        "print(var1)\n",
        "print(var2)\n",
        "print(var3)\n",
        "print(var4)\n",
        "print(var5)"
      ],
      "metadata": {
        "colab": {
          "base_uri": "https://localhost:8080/"
        },
        "id": "IlXRFs42eoC9",
        "outputId": "2d475ab3-5aaa-4a4a-e679-1abe4a5343c9"
      },
      "execution_count": null,
      "outputs": [
        {
          "output_type": "stream",
          "name": "stdout",
          "text": [
            "10\n",
            "20\n",
            "30\n",
            "40\n",
            "50\n"
          ]
        }
      ]
    },
    {
      "cell_type": "code",
      "source": [
        "# 10  Create a tuple of even numbers from 1 to 10 .\n",
        "\n",
        "even_numbers_list =  [num for num in range(2,11,2)]\n",
        "\n",
        "even_numbers_tuple = tuple(even_numbers_list)\n",
        "\n",
        "print(even_numbers_tuple)"
      ],
      "metadata": {
        "colab": {
          "base_uri": "https://localhost:8080/"
        },
        "id": "ChiTioWGfmIq",
        "outputId": "ce69bbd6-892e-4374-f2c5-4d87d86cd6d8"
      },
      "execution_count": null,
      "outputs": [
        {
          "output_type": "stream",
          "name": "stdout",
          "text": [
            "(2, 4, 6, 8, 10)\n"
          ]
        }
      ]
    },
    {
      "cell_type": "code",
      "source": [
        "# 11  Create a tuple of odd numbers from 1 to 10.\n",
        "\n",
        "even_numbers_list = [num for num in range(1, 10, 2)]\n",
        "\n",
        "even_numbers_tuple = tuple(even_numbers_list)\n",
        "\n",
        "print(even_numbers_tuple)"
      ],
      "metadata": {
        "colab": {
          "base_uri": "https://localhost:8080/"
        },
        "id": "FAWzOl3CkZta",
        "outputId": "5477a77d-7ac0-41ca-be8c-2959ecf8af88"
      },
      "execution_count": null,
      "outputs": [
        {
          "output_type": "stream",
          "name": "stdout",
          "text": [
            "(1, 3, 5, 7, 9)\n"
          ]
        }
      ]
    },
    {
      "cell_type": "code",
      "source": [
        "# 12 Concatenate two tuples.\n",
        "\n",
        "tuple1 = (\"vineet\", \"mohini\", \"shiva\")\n",
        "tuple2 = (23, 34, 45)\n",
        "\n",
        "concatenate_tuple = tuple1 + tuple2\n",
        "\n",
        "print(concatenate_tuple)"
      ],
      "metadata": {
        "colab": {
          "base_uri": "https://localhost:8080/"
        },
        "id": "vbzPgxLvmt_U",
        "outputId": "d0f1b832-66e1-4f9b-a349-a176e07f5b95"
      },
      "execution_count": null,
      "outputs": [
        {
          "output_type": "stream",
          "name": "stdout",
          "text": [
            "('vineet', 'mohini', 'shiva', 23, 34, 45)\n"
          ]
        }
      ]
    },
    {
      "cell_type": "code",
      "source": [
        "# 13  Repeat a tuple three times.\n",
        "\n",
        "tuple1 = (\"vineet\", \"mohini\", \"shiva\")\n",
        "repeat_tuple = tuple1 * 3\n",
        "print(repeat_tuple)"
      ],
      "metadata": {
        "colab": {
          "base_uri": "https://localhost:8080/"
        },
        "id": "EEvPiHcao9o6",
        "outputId": "c65e907f-9036-4107-a371-d030cdb54e46"
      },
      "execution_count": null,
      "outputs": [
        {
          "output_type": "stream",
          "name": "stdout",
          "text": [
            "('vineet', 'mohini', 'shiva', 'vineet', 'mohini', 'shiva', 'vineet', 'mohini', 'shiva')\n"
          ]
        }
      ]
    },
    {
      "cell_type": "code",
      "source": [
        "#14  Check if a tuple is empty.\n",
        "\n",
        "tuple23 = ()\n",
        "tuple24 = (1,2,3)\n",
        "\n",
        "if not tuple24:\n",
        "  print(\"empty\")\n",
        "else:\n",
        "  print(\"not empty\")\n"
      ],
      "metadata": {
        "colab": {
          "base_uri": "https://localhost:8080/"
        },
        "id": "E3gRDOxppbRe",
        "outputId": "3490e641-d3b5-4de3-ee66-76d89966bd44"
      },
      "execution_count": null,
      "outputs": [
        {
          "output_type": "stream",
          "name": "stdout",
          "text": [
            "not empty\n"
          ]
        }
      ]
    },
    {
      "cell_type": "code",
      "source": [
        "# 15 Create a nested tuple.\n",
        "\n",
        "nested_tuple = ((445, 4556,5656), (\"vineet\", \"moni\"), (True, False))\n",
        "\n",
        "print(nested_tuple)"
      ],
      "metadata": {
        "colab": {
          "base_uri": "https://localhost:8080/"
        },
        "id": "ZkS3KitUqcDR",
        "outputId": "aa5cd038-05a4-4b30-eb4b-a6871e0dc000"
      },
      "execution_count": null,
      "outputs": [
        {
          "output_type": "stream",
          "name": "stdout",
          "text": [
            "((445, 4556, 5656), ('vineet', 'moni'), (True, False))\n"
          ]
        }
      ]
    },
    {
      "cell_type": "code",
      "source": [
        " # 16 Access the first element of a nested tuple.\n",
        "\n",
        " nested_tuple = ((445, 4556,5656), (\"vineet\", \"moni\"), (True, False))\n",
        "\n",
        " frist_element = nested_tuple[0]\n",
        "\n",
        " print(frist_element)"
      ],
      "metadata": {
        "colab": {
          "base_uri": "https://localhost:8080/"
        },
        "id": "-oPpVECOrJCX",
        "outputId": "cd2df6db-d258-4608-d2de-485270e7b81c"
      },
      "execution_count": null,
      "outputs": [
        {
          "output_type": "stream",
          "name": "stdout",
          "text": [
            "(445, 4556, 5656)\n"
          ]
        }
      ]
    },
    {
      "cell_type": "code",
      "source": [
        "# 17 Create a tuple with a single element.\n",
        "\n",
        "tuple1 = (1,)\n",
        "\n",
        "print(tuple1)"
      ],
      "metadata": {
        "colab": {
          "base_uri": "https://localhost:8080/"
        },
        "id": "4s9yA5tqrfcw",
        "outputId": "a979ac58-1ce8-4701-db32-e87fdf31c5f9"
      },
      "execution_count": null,
      "outputs": [
        {
          "output_type": "stream",
          "name": "stdout",
          "text": [
            "(1,)\n"
          ]
        }
      ]
    },
    {
      "cell_type": "code",
      "source": [
        "type(tuple1)"
      ],
      "metadata": {
        "colab": {
          "base_uri": "https://localhost:8080/"
        },
        "id": "yxOwz_I4rtbE",
        "outputId": "4c50944d-0c40-4654-e064-5d59c209e093"
      },
      "execution_count": null,
      "outputs": [
        {
          "output_type": "execute_result",
          "data": {
            "text/plain": [
              "tuple"
            ]
          },
          "metadata": {},
          "execution_count": 110
        }
      ]
    },
    {
      "cell_type": "code",
      "source": [
        "# 18 Compare two tuples.\n",
        "\n",
        "tuple1 = (34, 50, 78)\n",
        "tuple2 = (57, 34, 50)\n",
        "\n",
        "print(tuple1 == tuple2)\n",
        "print(tuple1 + tuple2)\n",
        "print(tuple1 != tuple2)\n",
        "print(tuple1 < tuple2)\n",
        "print(tuple1 > tuple2)\n",
        "print(tuple1 >= tuple2)"
      ],
      "metadata": {
        "colab": {
          "base_uri": "https://localhost:8080/"
        },
        "id": "j5pzn51JrxS9",
        "outputId": "3a1347b3-d628-4012-c31e-f9619c596d72"
      },
      "execution_count": null,
      "outputs": [
        {
          "output_type": "stream",
          "name": "stdout",
          "text": [
            "False\n",
            "(34, 50, 78, 57, 34, 50)\n",
            "True\n",
            "True\n",
            "False\n",
            "False\n"
          ]
        }
      ]
    },
    {
      "cell_type": "code",
      "source": [
        "# 19  Delete a tuple.\n",
        "\n",
        "tuple23 = (34, 50, 78)\n",
        "del tuple23\n",
        "\n"
      ],
      "metadata": {
        "id": "CJaZC4Vbsmrm"
      },
      "execution_count": null,
      "outputs": []
    },
    {
      "cell_type": "code",
      "source": [
        "tuple23"
      ],
      "metadata": {
        "colab": {
          "base_uri": "https://localhost:8080/",
          "height": 175
        },
        "id": "IhbslIuDt4Zx",
        "outputId": "712352eb-da6f-44a6-acc6-aa26385432a5"
      },
      "execution_count": null,
      "outputs": [
        {
          "output_type": "error",
          "ename": "NameError",
          "evalue": "name 'tuple23' is not defined",
          "traceback": [
            "\u001b[0;31m---------------------------------------------------------------------------\u001b[0m",
            "\u001b[0;31mNameError\u001b[0m                                 Traceback (most recent call last)",
            "\u001b[0;32m<ipython-input-128-66a677973acc>\u001b[0m in \u001b[0;36m<cell line: 1>\u001b[0;34m()\u001b[0m\n\u001b[0;32m----> 1\u001b[0;31m \u001b[0mtuple23\u001b[0m\u001b[0;34m\u001b[0m\u001b[0;34m\u001b[0m\u001b[0m\n\u001b[0m",
            "\u001b[0;31mNameError\u001b[0m: name 'tuple23' is not defined"
          ]
        }
      ]
    },
    {
      "cell_type": "code",
      "source": [
        "# 20 slice a tuple\n",
        "\n",
        "my_tuple = (10, 20, 30, 40, 50, 60, 70, 80, 90)\n",
        "\n",
        "sliced_tuple = my_tuple[2:7]\n",
        "\n",
        "print(sliced_tuple)"
      ],
      "metadata": {
        "colab": {
          "base_uri": "https://localhost:8080/"
        },
        "id": "6ak6les-ub25",
        "outputId": "f707cf47-a32d-4564-b2ab-dd5e599b8bf3"
      },
      "execution_count": null,
      "outputs": [
        {
          "output_type": "stream",
          "name": "stdout",
          "text": [
            "(30, 40, 50, 60, 70)\n"
          ]
        }
      ]
    },
    {
      "cell_type": "code",
      "source": [
        "# 21 Find the maximum value in a tuple.\n",
        "\n",
        "my_tuple = (10, 20, 30, 200, 50, 60, 70, 80, 90)\n",
        "\n",
        "max_value = max(my_tuple)\n",
        "\n",
        "print(max_value)\n"
      ],
      "metadata": {
        "colab": {
          "base_uri": "https://localhost:8080/"
        },
        "id": "GY3SCDoHuyHv",
        "outputId": "b9234c2d-b862-45ad-e38f-c352c6007848"
      },
      "execution_count": null,
      "outputs": [
        {
          "output_type": "stream",
          "name": "stdout",
          "text": [
            "200\n"
          ]
        }
      ]
    },
    {
      "cell_type": "code",
      "source": [
        "# 22  Find the minimum value in a tuple.\n",
        "my_tuple = (10, 20, 30, 200, 50, 60, 70, 80, 90)\n",
        "\n",
        "min_value = min(my_tuple)\n",
        "\n",
        "print(min_value)"
      ],
      "metadata": {
        "id": "-5HjcMe03N67",
        "colab": {
          "base_uri": "https://localhost:8080/"
        },
        "outputId": "4c5a2890-5ba0-4584-cf9d-d75c4200055c"
      },
      "execution_count": null,
      "outputs": [
        {
          "output_type": "stream",
          "name": "stdout",
          "text": [
            "10\n"
          ]
        }
      ]
    },
    {
      "cell_type": "code",
      "source": [
        "# 23 Convert a string to a tuple of characters\n",
        "\n",
        "string = \"my name is vineet billore\"\n",
        "tuple1 = tuple(string)\n",
        "print(tuple1)"
      ],
      "metadata": {
        "colab": {
          "base_uri": "https://localhost:8080/"
        },
        "id": "xnvHicHjV__H",
        "outputId": "123e3874-d002-497d-aba8-21ef880bf6f0"
      },
      "execution_count": null,
      "outputs": [
        {
          "output_type": "stream",
          "name": "stdout",
          "text": [
            "('m', 'y', ' ', 'n', 'a', 'm', 'e', ' ', 'i', 's', ' ', 'v', 'i', 'n', 'e', 'e', 't', ' ', 'b', 'i', 'l', 'l', 'o', 'r', 'e')\n"
          ]
        }
      ]
    },
    {
      "cell_type": "code",
      "source": [
        "# 24 Convert a tuple of characters to a string.\n",
        "\n",
        "tuple1 =  ('m', 'y', ' ', 'n', 'a', 'm', 'e', ' ', 'i', 's', ' ', 'v', 'i', 'n', 'e', 'e', 't', ' ', 'b', 'i', 'l', 'l', 'o', 'r', 'e')\n",
        "string1 = ''.join(tuple1)\n",
        "print(string1)"
      ],
      "metadata": {
        "colab": {
          "base_uri": "https://localhost:8080/"
        },
        "id": "KwFfaS2kW4VC",
        "outputId": "c934f9bb-f90a-441d-eb33-ff510b894631"
      },
      "execution_count": null,
      "outputs": [
        {
          "output_type": "stream",
          "name": "stdout",
          "text": [
            "my name is vineet billore\n"
          ]
        }
      ]
    },
    {
      "cell_type": "code",
      "source": [
        "type(string1)"
      ],
      "metadata": {
        "colab": {
          "base_uri": "https://localhost:8080/"
        },
        "id": "A7ekD-4nXNoC",
        "outputId": "a3c8c7ad-bcb6-4f35-91b9-cd7f4f3ee5c4"
      },
      "execution_count": null,
      "outputs": [
        {
          "output_type": "execute_result",
          "data": {
            "text/plain": [
              "str"
            ]
          },
          "metadata": {},
          "execution_count": 28
        }
      ]
    },
    {
      "cell_type": "code",
      "source": [
        "# 25 Create a tuple from multiple data types.\n",
        "\n",
        "tuple1 =  (\"monini\", 23, 23.45, True, 6+7j)\n",
        "print(tuple1)"
      ],
      "metadata": {
        "colab": {
          "base_uri": "https://localhost:8080/"
        },
        "id": "Nl4RzWRfaNVL",
        "outputId": "a8ce6807-2bb6-433a-ac1b-c45375617094"
      },
      "execution_count": null,
      "outputs": [
        {
          "output_type": "stream",
          "name": "stdout",
          "text": [
            "('monini', 23, 23.45, True, (6+7j))\n"
          ]
        }
      ]
    },
    {
      "cell_type": "code",
      "source": [
        "# 26 . Check if two tuples are identical.\n",
        "\n",
        "tuple1 = (10, 20)\n",
        "tuple2 = (10, 20)\n",
        "tuple3 = (20, 30)\n",
        "\n",
        "indentical1 = tuple1 == tuple2\n",
        "indentical2 = tuple2 == tuple3\n",
        "\n",
        "print(indentical1)\n",
        "print(indentical2)"
      ],
      "metadata": {
        "colab": {
          "base_uri": "https://localhost:8080/"
        },
        "id": "O7h6YxCjamU0",
        "outputId": "ad37878d-15c5-4598-ead5-ad2e948f8ef3"
      },
      "execution_count": null,
      "outputs": [
        {
          "output_type": "stream",
          "name": "stdout",
          "text": [
            "True\n",
            "False\n"
          ]
        }
      ]
    },
    {
      "cell_type": "code",
      "source": [
        "# 27 Sort the elements of a tuple.\n",
        "\n",
        "my_tuple = (100, 2, 30, 20, 500, 60000, 70000, 800, 2)\n",
        "\n",
        "sorted = tuple(sorted(my_tuple))\n",
        "\n",
        "print(sorted)\n"
      ],
      "metadata": {
        "colab": {
          "base_uri": "https://localhost:8080/"
        },
        "id": "_1W7XKJtbNN7",
        "outputId": "b401c98f-0c08-43dc-e395-31e60d975984"
      },
      "execution_count": null,
      "outputs": [
        {
          "output_type": "stream",
          "name": "stdout",
          "text": [
            "(2, 2, 20, 30, 100, 500, 800, 60000, 70000)\n"
          ]
        }
      ]
    },
    {
      "cell_type": "code",
      "source": [
        "# 28  Convert a tuple of integers to a tuple of strings.\n",
        "\n",
        "my_tuple = (100, 2, 30, 20, 500, 60000, 70000, 800, 2)\n",
        "\n",
        "tuple_string = tuple(str(item) for item in my_tuple)\n",
        "\n",
        "print(tuple_string)"
      ],
      "metadata": {
        "colab": {
          "base_uri": "https://localhost:8080/"
        },
        "id": "i0vLrN0Gcosy",
        "outputId": "898b7605-5c57-4d3a-fc8e-f3c85dde9c6d"
      },
      "execution_count": null,
      "outputs": [
        {
          "output_type": "stream",
          "name": "stdout",
          "text": [
            "('100', '2', '30', '20', '500', '60000', '70000', '800', '2')\n"
          ]
        }
      ]
    },
    {
      "cell_type": "code",
      "source": [
        "# 29 Convert a tuple of strings to a tuple of integers.\n",
        "\n",
        "my_tuple = ('100', '2', '30', '20', '500', '60000', '70000', '800', '2')\n",
        "\n",
        "tuple_integers = tuple(int(item) for item in my_tuple)\n",
        "\n",
        "print(tuple_integers)"
      ],
      "metadata": {
        "colab": {
          "base_uri": "https://localhost:8080/"
        },
        "id": "ODha5Bbsdapc",
        "outputId": "2b3ffc98-d2b6-4f2b-d1f1-2d7c236e8311"
      },
      "execution_count": null,
      "outputs": [
        {
          "output_type": "stream",
          "name": "stdout",
          "text": [
            "(100, 2, 30, 20, 500, 60000, 70000, 800, 2)\n"
          ]
        }
      ]
    },
    {
      "cell_type": "code",
      "source": [
        "# 30 Merge two tuples.\n",
        "\n",
        "tuple1 = (10,20,30)\n",
        "tuple2 =  (40,50,60)\n",
        "\n",
        "marge = tuple1 + tuple2\n",
        "\n",
        "print(marge)"
      ],
      "metadata": {
        "colab": {
          "base_uri": "https://localhost:8080/"
        },
        "id": "fpPmr4qreS4h",
        "outputId": "38ca66be-debf-427c-8f41-07dd9d21eeda"
      },
      "execution_count": null,
      "outputs": [
        {
          "output_type": "stream",
          "name": "stdout",
          "text": [
            "(10, 20, 30, 40, 50, 60)\n"
          ]
        }
      ]
    },
    {
      "cell_type": "code",
      "source": [
        "# 31 Flatten a nested tuple .\n",
        "\n",
        "def flatten_tuple(nested_tuple):\n",
        "  flattened = []\n",
        "  for item in nested_tuple:\n",
        "    if isinstance(item, tuple):\n",
        "      flattened.extend(flatten_tuple(item))\n",
        "    else:\n",
        "      flattened.append(item)\n",
        "  return flattened\n",
        "\n",
        "nested_tuple = ((1, 2), (3, 4), (5, 6), ((7, 8), 9))\n",
        "\n",
        "flattened_tuple = tuple(flatten_tuple(nested_tuple))\n",
        "\n",
        "print(flattened_tuple)\n",
        "\n"
      ],
      "metadata": {
        "colab": {
          "base_uri": "https://localhost:8080/"
        },
        "id": "JwqKyLm6erfb",
        "outputId": "b754823e-f03b-404e-e300-096535bff7e5"
      },
      "execution_count": null,
      "outputs": [
        {
          "output_type": "stream",
          "name": "stdout",
          "text": [
            "(1, 2, 3, 4, 5, 6, 7, 8, 9)\n"
          ]
        }
      ]
    },
    {
      "cell_type": "code",
      "source": [
        "# 32  Create a tuple of the first 5 prime numbers.\n",
        "\n",
        "def is_prime(num):\n",
        "  if num <= 1:\n",
        "    return False\n",
        "  for i in range(2, int(num**0.5) + 1):\n",
        "    if num % i == 0:\n",
        "      return False\n",
        "  return True\n",
        "\n",
        "prime_numbers_list = [num for num in range(2, 100) if is_prime(num)][:5]\n",
        "\n",
        "prime_numbers_tuple = tuple(prime_numbers_list)\n",
        "\n",
        "print(prime_numbers_tuple)"
      ],
      "metadata": {
        "colab": {
          "base_uri": "https://localhost:8080/"
        },
        "id": "M9UAkOSbhvRc",
        "outputId": "51dbbe8b-c72f-4c31-b1bb-b415403c6f19"
      },
      "execution_count": null,
      "outputs": [
        {
          "output_type": "stream",
          "name": "stdout",
          "text": [
            "(2, 3, 5, 7, 11)\n"
          ]
        }
      ]
    },
    {
      "cell_type": "code",
      "source": [
        "# 33 Check if a tuple is a palindrome.\n",
        "\n",
        "def is_palindrome(tup):\n",
        "  return tup == tup[::-1]\n",
        "\n",
        "palindrome_tuple = (1,2,3,2,1)\n",
        "non_palindrome_tuple = (1, 2, 3, 4, 5, 6)\n",
        "\n",
        "is_palindrome1 = is_palindrome(palindrome_tuple)\n",
        "is_palindrome2 = is_palindrome(non_palindrome_tuple)\n",
        "\n",
        "print(is_palindrome1)\n",
        "print(is_palindrome2)"
      ],
      "metadata": {
        "colab": {
          "base_uri": "https://localhost:8080/"
        },
        "id": "Jp3DBHPIka-T",
        "outputId": "037ceb13-0bd8-4910-aa32-b728ae0d445e"
      },
      "execution_count": null,
      "outputs": [
        {
          "output_type": "stream",
          "name": "stdout",
          "text": [
            "True\n",
            "False\n"
          ]
        }
      ]
    },
    {
      "cell_type": "code",
      "source": [
        "# 34 Create a tuple of squares of numbers from 1 to 5.\n",
        "\n",
        "squares_tuple = tuple (x ** 2 for x in range (1, 6))\n",
        "\n",
        "print(\"Tuple of squares:\", squares_tuple)"
      ],
      "metadata": {
        "colab": {
          "base_uri": "https://localhost:8080/"
        },
        "id": "82TA6cZFntmG",
        "outputId": "ffd69a13-2b32-468d-9858-e039c561d487"
      },
      "execution_count": null,
      "outputs": [
        {
          "output_type": "stream",
          "name": "stdout",
          "text": [
            "Tuple of squares: (1, 4, 9, 16, 25)\n"
          ]
        }
      ]
    },
    {
      "cell_type": "code",
      "source": [
        "# 35 Filter out all even numbers from a tuple.\n",
        "\n",
        "even_number_tuple = tuple(range(2,11,2))\n",
        "print(even_number_tuple)"
      ],
      "metadata": {
        "id": "fbYqnC0ypfgr",
        "colab": {
          "base_uri": "https://localhost:8080/"
        },
        "outputId": "1476ac1c-fa7c-47a7-be63-f64702c4db34"
      },
      "execution_count": null,
      "outputs": [
        {
          "output_type": "stream",
          "name": "stdout",
          "text": [
            "(2, 4, 6, 8, 10)\n"
          ]
        }
      ]
    },
    {
      "cell_type": "code",
      "source": [
        "# 36  Multiply all elements in a tuple by 2.\n",
        "tuple1 = (1,2,3,4,5)\n",
        "\n",
        "mult_element = tuple(num*2 for num in tuple1)\n",
        "print(mult_element)"
      ],
      "metadata": {
        "colab": {
          "base_uri": "https://localhost:8080/"
        },
        "id": "TMT0BvRRlpSA",
        "outputId": "c283d0bd-c2e7-400d-fd7d-d4958f5674dd"
      },
      "execution_count": null,
      "outputs": [
        {
          "output_type": "stream",
          "name": "stdout",
          "text": [
            "(2, 4, 6, 8, 10)\n"
          ]
        }
      ]
    },
    {
      "cell_type": "code",
      "source": [
        "# 37 Create a tuple of random numbers.\n",
        "\n",
        "import random\n",
        "\n",
        "random_tuple = tuple(random.randint(1, 100)for _ in range (10))\n",
        "\n",
        "print(random_tuple)"
      ],
      "metadata": {
        "colab": {
          "base_uri": "https://localhost:8080/"
        },
        "id": "mpCnfZPlncny",
        "outputId": "3720f39a-1ff8-472f-d102-0d199dbd1973"
      },
      "execution_count": null,
      "outputs": [
        {
          "output_type": "stream",
          "name": "stdout",
          "text": [
            "(54, 58, 76, 19, 51, 5, 89, 69, 23, 8)\n"
          ]
        }
      ]
    },
    {
      "cell_type": "code",
      "source": [
        "# 38 Check if a tuple is sorted.\n",
        "\n",
        "def is_sorted(tup):\n",
        "  for i in range(len(tup) - 1):\n",
        "    if tup[i] > tup[i + 1]:\n",
        "      return False\n",
        "  return True\n",
        "\n",
        "sorted_tuple =(1,2,3,4,5)\n",
        "unsorted_tuple = (5,3,1,4,2)\n",
        "\n",
        "is_sorted1 = is_sorted(sorted_tuple)\n",
        "is_sorted2 = is_sorted(unsorted_tuple)\n",
        "\n",
        "print(is_sorted1)\n",
        "print(is_sorted2)"
      ],
      "metadata": {
        "colab": {
          "base_uri": "https://localhost:8080/"
        },
        "id": "DdQOcGzonljG",
        "outputId": "5d195830-7d56-4e2f-f834-6e919b18715f"
      },
      "execution_count": null,
      "outputs": [
        {
          "output_type": "stream",
          "name": "stdout",
          "text": [
            "True\n",
            "False\n"
          ]
        }
      ]
    },
    {
      "cell_type": "code",
      "source": [
        "# 39 Rotate a tuple to the left by `n` positions.\n",
        "\n",
        "def rotate_tuple_left(tup, n):\n",
        "  n = n% len(tup)\n",
        "  rotated_tuple = tup[n:] + tup[:n]\n",
        "  return rotated_tuple\n",
        "\n",
        "my_tuple = (1,2,3,4,5)\n",
        "n_positions = 2\n",
        "result = rotate_tuple_left(my_tuple, n_positions)\n",
        "print(result)\n"
      ],
      "metadata": {
        "colab": {
          "base_uri": "https://localhost:8080/"
        },
        "id": "--nTUmymno4N",
        "outputId": "1c54e8c8-bbea-442b-b71a-8f5110c30b74"
      },
      "execution_count": null,
      "outputs": [
        {
          "output_type": "stream",
          "name": "stdout",
          "text": [
            "(3, 4, 5, 1, 2)\n"
          ]
        }
      ]
    },
    {
      "cell_type": "code",
      "source": [
        "# 40 Rotate a tuple to the right by `n` positions.\n",
        "\n",
        "def rotate_tuple_right(tup, n):\n",
        "  n = n % len(tup)\n",
        "  rotated_tuple = tup[-n:] + tup[:-n]\n",
        "  return rotated_tuple\n",
        "\n",
        "my_tuple = (1,2,3,4,5)\n",
        "n_positions = 2\n",
        "result = rotate_tuple_right(my_tuple, n_positions)\n",
        "print(result)"
      ],
      "metadata": {
        "colab": {
          "base_uri": "https://localhost:8080/"
        },
        "id": "t7frdOcwnscz",
        "outputId": "b48f174d-75c7-4003-8c0b-af5860a483d0"
      },
      "execution_count": null,
      "outputs": [
        {
          "output_type": "stream",
          "name": "stdout",
          "text": [
            "(4, 5, 1, 2, 3)\n"
          ]
        }
      ]
    },
    {
      "cell_type": "code",
      "source": [
        "# 41 Create a tuple of the first 5 Fibonacci numbers.\n",
        "\n",
        "def generate_fibonacci(n):\n",
        "  fibonacci = [0,1]\n",
        "  while len(fibonacci) < n:\n",
        "    next_number = fibonacci[-1] + fibonacci[-2]\n",
        "    fibonacci.append(next_number)\n",
        "  return tuple(fibonacci)\n",
        "\n",
        "fibonacci_tuple = generate_fibonacci(5)\n",
        "\n",
        "print(fibonacci_tuple)"
      ],
      "metadata": {
        "colab": {
          "base_uri": "https://localhost:8080/"
        },
        "id": "ceWVHKQcnvBi",
        "outputId": "639a3582-f155-4c48-b497-4319b8dfd473"
      },
      "execution_count": null,
      "outputs": [
        {
          "output_type": "stream",
          "name": "stdout",
          "text": [
            "(0, 1, 1, 2, 3)\n"
          ]
        }
      ]
    },
    {
      "cell_type": "code",
      "source": [
        "# 42  Create a tuple from user input.\n",
        "\n",
        "input_str = input(\"Enter elements separated by commas:\")\n",
        "\n",
        "input_list = input_str.split(',')\n",
        "\n",
        "user_tuple = tuple(input_list)\n",
        "\n",
        "print(user_tuple)"
      ],
      "metadata": {
        "colab": {
          "base_uri": "https://localhost:8080/"
        },
        "id": "vthe__sMnxWM",
        "outputId": "edb6d7fa-e7c2-4c57-8e50-f29e11ed7ac6"
      },
      "execution_count": null,
      "outputs": [
        {
          "output_type": "stream",
          "name": "stdout",
          "text": [
            "Enter elements separated by commas:e,r,t,t,t,t,\n",
            "('e', 'r', 't', 't', 't', 't', '')\n"
          ]
        }
      ]
    },
    {
      "cell_type": "code",
      "source": [
        "# 43 Swap two elements in a tuple.\n",
        "\n",
        "my_tuple = (1,2,3,4,5)\n",
        "\n",
        "index1 = 1\n",
        "index2 = 3\n",
        "swapped_tuple = tuple(\n",
        "    my_tuple[i] if i not in (index1, index2) else\n",
        "    my_tuple[index2] if i == index1 else\n",
        "    my_tuple[index1]\n",
        "    for i in range(len(my_tuple))\n",
        ")\n",
        "\n",
        "print(swapped_tuple)\n"
      ],
      "metadata": {
        "colab": {
          "base_uri": "https://localhost:8080/"
        },
        "id": "Xq84f2v2nz7b",
        "outputId": "086ae575-c263-4bf9-86f0-f88d4edb9059"
      },
      "execution_count": null,
      "outputs": [
        {
          "output_type": "stream",
          "name": "stdout",
          "text": [
            "(1, 4, 3, 2, 5)\n"
          ]
        }
      ]
    },
    {
      "cell_type": "code",
      "source": [
        "# 44 Reverse the elements of a tuple\n",
        "\n",
        "my_tuple = (1,2,3,4,5)\n",
        "\n",
        "revesed_tuple = my_tuple[::-1]\n",
        "\n",
        "print(revesed_tuple)"
      ],
      "metadata": {
        "colab": {
          "base_uri": "https://localhost:8080/"
        },
        "id": "dTupRaJQn2hz",
        "outputId": "a82b98a6-7121-4b28-9a82-eab729692096"
      },
      "execution_count": null,
      "outputs": [
        {
          "output_type": "stream",
          "name": "stdout",
          "text": [
            "(5, 4, 3, 2, 1)\n"
          ]
        }
      ]
    },
    {
      "cell_type": "code",
      "source": [
        "# 45 Create a tuple of the first `n` powers of 2.\n",
        "\n",
        "n = 5\n",
        "\n",
        "power_of_2_tuple = tuple(2** i for i in range(n))\n",
        "\n",
        "print(\"Tuple of the frist\" ,n, \"power of 2:\" ,power_of_2_tuple)"
      ],
      "metadata": {
        "colab": {
          "base_uri": "https://localhost:8080/"
        },
        "id": "Vr54Tw8Fn511",
        "outputId": "d29bf72f-1de1-4e27-8f84-daff4e916f0b"
      },
      "execution_count": null,
      "outputs": [
        {
          "output_type": "stream",
          "name": "stdout",
          "text": [
            "Tuple of the frist 5 power of 2: (1, 2, 4, 8, 16)\n"
          ]
        }
      ]
    },
    {
      "cell_type": "code",
      "source": [
        "# 46 . Find the longest string in a tuple of strings\n",
        "\n",
        "string_tuple = (\"apple\", \"banana\", \"grape\", \"kiwi\", \"watermelon\")\n",
        "\n",
        "longest_string = max(string_tuple, key=len)\n",
        "\n",
        "print(longest_string)\n"
      ],
      "metadata": {
        "colab": {
          "base_uri": "https://localhost:8080/"
        },
        "id": "jOmHkXBcn8MY",
        "outputId": "0026db35-d9cb-40d3-ab24-bfa87ed7403c"
      },
      "execution_count": null,
      "outputs": [
        {
          "output_type": "stream",
          "name": "stdout",
          "text": [
            "watermelon\n"
          ]
        }
      ]
    },
    {
      "cell_type": "code",
      "source": [
        "# 47 Find the shortest string in a tuple of strings.\n",
        "\n",
        "string_tuple = (\"apple\", \"banana\", \"grape\", \"kiwi\", \"watermelon\")\n",
        "\n",
        "shortest_string = min(string_tuple, key=len )\n",
        "\n",
        "print(shortest_string)\n"
      ],
      "metadata": {
        "colab": {
          "base_uri": "https://localhost:8080/"
        },
        "id": "v0DaBBITn-uL",
        "outputId": "aaedba52-70db-4438-86c1-82e14832064f"
      },
      "execution_count": null,
      "outputs": [
        {
          "output_type": "stream",
          "name": "stdout",
          "text": [
            "kiwi\n"
          ]
        }
      ]
    },
    {
      "cell_type": "code",
      "source": [
        "  # 48 Create a tuple of the first `n` triangular numbers.\n",
        "\n",
        "n = 5\n",
        "\n",
        "triangular_numbers_tuple  = tuple((i*(i+1))//2 for i in range(1 , n + 1))\n",
        "\n",
        "print(triangular_numbers_tuple)"
      ],
      "metadata": {
        "colab": {
          "base_uri": "https://localhost:8080/"
        },
        "id": "lRiWJfWJoCXi",
        "outputId": "3278f6cd-52e9-47e1-cd4e-c9a1838c9056"
      },
      "execution_count": null,
      "outputs": [
        {
          "output_type": "stream",
          "name": "stdout",
          "text": [
            "(1, 3, 6, 10, 15)\n"
          ]
        }
      ]
    },
    {
      "cell_type": "code",
      "source": [
        "# 49 Check if a tuple contains another tuple as a subsequence.\n",
        "\n",
        "def contains_subsequence(main_tuple, sub_tuple):\n",
        "  sub_length = len(sub_tuple)\n",
        "  for i in  range(len(main_tuple) - sub_length + 1):\n",
        "    if main_tuple[i:i+sub_length] == sub_tuple:\n",
        "      return True\n",
        "  return False\n",
        "\n",
        "main_tuple = (1,2,3,4,5,6,7,8,9)\n",
        "\n",
        "sub_tuple = (3,4,5)\n",
        "\n",
        "contains_subseq = contains_subsequence(main_tuple, sub_tuple)\n",
        "\n",
        "print(contains_subseq)"
      ],
      "metadata": {
        "colab": {
          "base_uri": "https://localhost:8080/"
        },
        "id": "SBSgUcc8oE-K",
        "outputId": "48f9fe8c-f15f-429a-82e5-c1ccaa56120c"
      },
      "execution_count": null,
      "outputs": [
        {
          "output_type": "stream",
          "name": "stdout",
          "text": [
            "True\n"
          ]
        }
      ]
    },
    {
      "cell_type": "code",
      "source": [
        "# 50 Create a tuple of alternating 1s and 0s of length `n`.\n",
        "n = 10\n",
        "\n",
        "alternating_tuple = tuple(i % 2 for i in range(n))\n",
        "\n",
        "print(\"Tuple of alternating 1s and 0s:\", alternating_tuple)"
      ],
      "metadata": {
        "colab": {
          "base_uri": "https://localhost:8080/"
        },
        "id": "sWA8L-AtoH3S",
        "outputId": "7cff644a-d3c4-40a7-d84c-f9ff3cddc84e"
      },
      "execution_count": null,
      "outputs": [
        {
          "output_type": "stream",
          "name": "stdout",
          "text": [
            "Tuple of alternating 1s and 0s: (0, 1, 0, 1, 0, 1, 0, 1, 0, 1)\n"
          ]
        }
      ]
    },
    {
      "cell_type": "code",
      "source": [
        "# --------------------------------------------------------------------------*****------------------------------------------------\n",
        "\n",
        "# end of tuple\n"
      ],
      "metadata": {
        "id": "o-PeeE79oLMk"
      },
      "execution_count": null,
      "outputs": []
    },
    {
      "cell_type": "code",
      "source": [
        "# 1. Create a set with integers from 1 to 5.\n",
        "\n",
        "set1 = set()\n",
        "\n",
        "set1.add(1)\n",
        "set1.add(2)\n",
        "set1.add(3)\n",
        "\n",
        "print(set1)"
      ],
      "metadata": {
        "id": "dqzIkc1dFgr1",
        "colab": {
          "base_uri": "https://localhost:8080/"
        },
        "outputId": "3de14ac9-d4a5-49ea-c2e3-210698bd8090"
      },
      "execution_count": null,
      "outputs": [
        {
          "output_type": "stream",
          "name": "stdout",
          "text": [
            "{1, 2, 3}\n"
          ]
        }
      ]
    },
    {
      "cell_type": "code",
      "source": [
        "# 2. Add an element to a set.\n",
        "\n",
        "set1 = {1,2,3,4,5}\n",
        "\n",
        "set1.add(6)\n",
        "\n",
        "print(set1)\n"
      ],
      "metadata": {
        "id": "_phMBCo7FrfU",
        "colab": {
          "base_uri": "https://localhost:8080/"
        },
        "outputId": "54a1a368-1dde-4e76-b23d-b658c588611d"
      },
      "execution_count": null,
      "outputs": [
        {
          "output_type": "stream",
          "name": "stdout",
          "text": [
            "{1, 2, 3, 4, 5, 6}\n"
          ]
        }
      ]
    },
    {
      "cell_type": "code",
      "source": [
        "# 3. Remove an element from a set.\n",
        "set1 =  {1,2,3,4,5}\n",
        "\n",
        "set1.remove(2)\n",
        "\n",
        "print(set1)\n"
      ],
      "metadata": {
        "id": "6aQ1_zucF2Re",
        "colab": {
          "base_uri": "https://localhost:8080/"
        },
        "outputId": "c65f386e-5a47-46f5-ffa5-d39856ed5f5e"
      },
      "execution_count": null,
      "outputs": [
        {
          "output_type": "stream",
          "name": "stdout",
          "text": [
            "{1, 3, 4, 5}\n"
          ]
        }
      ]
    },
    {
      "cell_type": "code",
      "source": [
        " # 4. Check if an element exists in a set.\n",
        "set1 =  {1,2,3,4,5}\n",
        "\n",
        "n =  int(input())\n",
        "if n in set1:\n",
        "  print(\"yes available\")\n",
        "else:\n",
        "  print(\"not available\")\n",
        "\n"
      ],
      "metadata": {
        "id": "omTCNGfuF5Gx",
        "colab": {
          "base_uri": "https://localhost:8080/"
        },
        "outputId": "4f6bfc96-d785-4350-e129-d8b5775b6980"
      },
      "execution_count": null,
      "outputs": [
        {
          "output_type": "stream",
          "name": "stdout",
          "text": [
            "4\n",
            "yes available\n"
          ]
        }
      ]
    },
    {
      "cell_type": "code",
      "source": [
        "# 5. Find the length of a set without using the `len()` function.\n",
        "set1 =  {1,2,3,4,6,7,8}\n",
        "count = 0\n",
        "\n",
        "for _ in set1:\n",
        "  count += 1\n",
        "\n",
        "print(count)\n",
        "\n"
      ],
      "metadata": {
        "id": "TwUeZL-DF8wD",
        "colab": {
          "base_uri": "https://localhost:8080/"
        },
        "outputId": "0e249532-b6f4-4b87-ec3d-2be4854ca9a3"
      },
      "execution_count": null,
      "outputs": [
        {
          "output_type": "stream",
          "name": "stdout",
          "text": [
            "7\n"
          ]
        }
      ]
    },
    {
      "cell_type": "code",
      "source": [
        "# 6. Clear all elements from a set.\n",
        "set1 =  {1,2,3,4,6,7,8}\n",
        "\n",
        "set1.clear()\n",
        "\n",
        "print(set1)\n"
      ],
      "metadata": {
        "id": "6jTsKvFXGAS6",
        "colab": {
          "base_uri": "https://localhost:8080/"
        },
        "outputId": "728f806d-354c-4785-a5a0-f0a84ebc96bc"
      },
      "execution_count": null,
      "outputs": [
        {
          "output_type": "stream",
          "name": "stdout",
          "text": [
            "set()\n"
          ]
        }
      ]
    },
    {
      "cell_type": "code",
      "source": [
        "# 7. Create a set of even numbers from 1 to 10.\n",
        "\n",
        "set1 = set(range(2,11,2))\n",
        "\n",
        "print(set1)\n"
      ],
      "metadata": {
        "id": "IucLlcanGE5U",
        "colab": {
          "base_uri": "https://localhost:8080/"
        },
        "outputId": "d7df5fbd-6985-4d25-942c-af34f29a927b"
      },
      "execution_count": null,
      "outputs": [
        {
          "output_type": "stream",
          "name": "stdout",
          "text": [
            "{2, 4, 6, 8, 10}\n"
          ]
        }
      ]
    },
    {
      "cell_type": "code",
      "source": [
        "# 8. Create a set of odd numbers from 1 to 10.\n",
        "\n",
        "set1 = set(range(1,11,2))\n",
        "\n",
        "print(set1)\n"
      ],
      "metadata": {
        "id": "kzmLLo_PGHn5",
        "colab": {
          "base_uri": "https://localhost:8080/"
        },
        "outputId": "781fa13c-5e50-413d-897b-3f5a09e3ba5a"
      },
      "execution_count": null,
      "outputs": [
        {
          "output_type": "stream",
          "name": "stdout",
          "text": [
            "{1, 3, 5, 7, 9}\n"
          ]
        }
      ]
    },
    {
      "cell_type": "code",
      "source": [
        "# 9. Find the union of two sets.\n",
        "set1 = {10, 20, 30, 40, 50}\n",
        "set2 = {10, 20, 6, 7, 8}\n",
        "\n",
        "union_result = set1.union(set2)\n",
        "\n",
        "print(union_result)\n",
        "\n"
      ],
      "metadata": {
        "id": "qYgB6RqLGJvv",
        "colab": {
          "base_uri": "https://localhost:8080/"
        },
        "outputId": "32674f63-e2b5-4b0f-d6f2-f0ec350ad483"
      },
      "execution_count": null,
      "outputs": [
        {
          "output_type": "stream",
          "name": "stdout",
          "text": [
            "{6, 7, 40, 8, 10, 50, 20, 30}\n"
          ]
        }
      ]
    },
    {
      "cell_type": "code",
      "source": [
        "# 10. Find the intersection of two sets.\n",
        "set1 = {10, 20, 30, 40, 50}\n",
        "set2 = {10, 20, 6, 7, 8}\n",
        "\n",
        "intersection_result = set1.intersection(set2)\n",
        "\n",
        "print(intersection_result)"
      ],
      "metadata": {
        "id": "tdnAV7K-GL3k",
        "colab": {
          "base_uri": "https://localhost:8080/"
        },
        "outputId": "37950fcc-ddec-4315-ef18-b79e719bc47c"
      },
      "execution_count": null,
      "outputs": [
        {
          "output_type": "stream",
          "name": "stdout",
          "text": [
            "{10, 20}\n"
          ]
        }
      ]
    },
    {
      "cell_type": "code",
      "source": [
        "# 11. Find the difference between two sets.\n",
        "set1 = {10, 20, 30, 40, 50}\n",
        "set2 = {10, 20, 6, 7, 8}\n",
        "\n",
        "difference_result = set2.difference(set1)\n",
        "\n",
        "print(difference_result)"
      ],
      "metadata": {
        "id": "sP1vnjdAGPsT",
        "colab": {
          "base_uri": "https://localhost:8080/"
        },
        "outputId": "6fdfb21b-f7ef-445f-b1cb-b389b61b9fb2"
      },
      "execution_count": null,
      "outputs": [
        {
          "output_type": "stream",
          "name": "stdout",
          "text": [
            "{8, 6, 7}\n"
          ]
        }
      ]
    },
    {
      "cell_type": "code",
      "source": [
        "# 12. Check if a set is a subset of another set.\n",
        "set1 = {10, 20, 30, 40, 50}\n",
        "set2 = {10, 20}\n",
        "\n",
        "is_subset = set2.issubset(set1)\n",
        "\n",
        "print(is_subset)"
      ],
      "metadata": {
        "id": "t1OQvzSvGTXg",
        "colab": {
          "base_uri": "https://localhost:8080/"
        },
        "outputId": "f56c147c-8346-4ce8-d11d-eef01b75c046"
      },
      "execution_count": null,
      "outputs": [
        {
          "output_type": "stream",
          "name": "stdout",
          "text": [
            "True\n"
          ]
        }
      ]
    },
    {
      "cell_type": "code",
      "source": [
        "# 13. Check if a set is a superset of another set\n",
        "set1 = {10, 20, 30, 40, 50}\n",
        "set2 = {10, 20}\n",
        "\n",
        "is_superset = set1.issuperset(set2)\n",
        "\n",
        "print(is_superset)"
      ],
      "metadata": {
        "id": "nS8LU3IJGXAP",
        "colab": {
          "base_uri": "https://localhost:8080/"
        },
        "outputId": "2ffbcdba-69c2-45c6-ca2c-59a3f9257b93"
      },
      "execution_count": null,
      "outputs": [
        {
          "output_type": "stream",
          "name": "stdout",
          "text": [
            "True\n"
          ]
        }
      ]
    },
    {
      "cell_type": "code",
      "source": [
        "# 14 Create a set from a list.\n",
        "\n",
        "list1 = [1,2,8,7,6,5,4,3,2,1,2,3,4,5,6,6,7,8,8,3,4,5,6,7,8,9]\n",
        "\n",
        "set1 = set(list1)\n",
        "\n",
        "print(set1)\n"
      ],
      "metadata": {
        "colab": {
          "base_uri": "https://localhost:8080/"
        },
        "id": "8LJaX8Rle9xC",
        "outputId": "74a96624-f6d6-427e-92ca-05d2810b356e"
      },
      "execution_count": null,
      "outputs": [
        {
          "output_type": "stream",
          "name": "stdout",
          "text": [
            "{1, 2, 3, 4, 5, 6, 7, 8, 9}\n"
          ]
        }
      ]
    },
    {
      "cell_type": "code",
      "source": [
        "# 15. Convert a set to a list\n",
        "\n",
        "set1 = {1, 2, 3, 4, 5, 6, 7, 8, 9}\n",
        "\n",
        "list1 = list(set1)\n",
        "\n",
        "print(list1)"
      ],
      "metadata": {
        "colab": {
          "base_uri": "https://localhost:8080/"
        },
        "id": "c-mLFsDQfYmW",
        "outputId": "3d65b29a-4842-4154-dce7-a11fb0ed2457"
      },
      "execution_count": null,
      "outputs": [
        {
          "output_type": "stream",
          "name": "stdout",
          "text": [
            "[1, 2, 3, 4, 5, 6, 7, 8, 9]\n"
          ]
        }
      ]
    },
    {
      "cell_type": "code",
      "source": [
        "# 16. Remove a random element from a set.\n",
        "\n",
        "import random\n",
        "\n",
        "set1 = {1, 2, 3, 4, 5, 6, 7, 8, 9}\n",
        "\n",
        "random_element = random.choice(list(set1))\n",
        "\n",
        "set1.remove(random_element)\n",
        "\n",
        "print(set1)\n"
      ],
      "metadata": {
        "id": "jSpgIDd7fax_",
        "colab": {
          "base_uri": "https://localhost:8080/"
        },
        "outputId": "817bde1f-bfa0-457f-a20a-4f4ec25c99ac"
      },
      "execution_count": null,
      "outputs": [
        {
          "output_type": "stream",
          "name": "stdout",
          "text": [
            "{1, 2, 4, 5, 6, 7, 8, 9}\n"
          ]
        }
      ]
    },
    {
      "cell_type": "code",
      "source": [
        "# 17. Pop an element from a set.\n",
        "\n",
        "set1 = {1, 2, 3, 4, 5, 6, 7, 8, 9}\n",
        "\n",
        "popped_element = set1.pop()\n",
        "\n",
        "print(set1)"
      ],
      "metadata": {
        "id": "DjgexDFbfctt",
        "colab": {
          "base_uri": "https://localhost:8080/"
        },
        "outputId": "77991e18-8082-43dd-d224-3da8c5e75358"
      },
      "execution_count": null,
      "outputs": [
        {
          "output_type": "stream",
          "name": "stdout",
          "text": [
            "{2, 3, 4, 5, 6, 7, 8, 9}\n"
          ]
        }
      ]
    },
    {
      "cell_type": "code",
      "source": [
        "# 18. Check if two sets have no elements in common.\n",
        "\n",
        "set1 = {1, 2, 3, 4, 5, 6, 7, 8, 9}\n",
        "set2 = {11,2,3,4,545,766,879}\n",
        "common_elements = set1.intersection(set2)\n",
        "if not common_elements:\n",
        "  print(\"no common element\")\n",
        "else:\n",
        "    print(common_elements)"
      ],
      "metadata": {
        "id": "Nflwp1kSfhjX",
        "colab": {
          "base_uri": "https://localhost:8080/"
        },
        "outputId": "9ee2d287-ecdc-4330-87fb-364821a1717b"
      },
      "execution_count": null,
      "outputs": [
        {
          "output_type": "stream",
          "name": "stdout",
          "text": [
            "{2, 3, 4}\n"
          ]
        }
      ]
    },
    {
      "cell_type": "code",
      "source": [
        "# 19. Find the symmetric difference between two sets.\n",
        "set1 = {1, 2, 3, 4, 5, 6, 7, 8, 9}\n",
        "set2 = {11,2,3,4,545,766,879}\n",
        "symmetric_difference = set1 ^ set2\n",
        "print(symmetric_difference)"
      ],
      "metadata": {
        "id": "3dMp8HHHfkek",
        "colab": {
          "base_uri": "https://localhost:8080/"
        },
        "outputId": "de1118f2-b416-4d4f-946c-d086ff853125"
      },
      "execution_count": null,
      "outputs": [
        {
          "output_type": "stream",
          "name": "stdout",
          "text": [
            "{545, 1, 5, 6, 7, 8, 9, 11, 879, 766}\n"
          ]
        }
      ]
    },
    {
      "cell_type": "code",
      "source": [
        "# 20. Update a set with elements from another set.\n",
        "set1 = {1, 2, 3, 4, 5, 6, 7, 8, 9}\n",
        "set2 = {11,2,3,4,545,766,879}\n",
        "\n",
        "set1.update(set2)\n",
        "\n",
        "print(set1)"
      ],
      "metadata": {
        "id": "11uPOkKOfnMj",
        "colab": {
          "base_uri": "https://localhost:8080/"
        },
        "outputId": "30bc8b93-5e46-4e8f-e9e7-5ccbfbe50fb8"
      },
      "execution_count": null,
      "outputs": [
        {
          "output_type": "stream",
          "name": "stdout",
          "text": [
            "{1, 2, 3, 4, 5, 6, 7, 8, 9, 545, 11, 879, 766}\n"
          ]
        }
      ]
    },
    {
      "cell_type": "code",
      "source": [
        "# 21. Create a set of the first 5 prime numbers.\n",
        "\n",
        "def is_prime(num):\n",
        "  if num <= 1:\n",
        "    return False\n",
        "  for i in range(2, int(num**0.5) + 1):\n",
        "    if num % i == 0:\n",
        "      return False\n",
        "  return True\n",
        "\n",
        "prime_set = set()\n",
        "num = 2\n",
        "while len(prime_set) < 5:\n",
        "  if is_prime(num):\n",
        "    prime_set.add(num)\n",
        "\n",
        "  num += 1\n",
        "print(prime_set)\n"
      ],
      "metadata": {
        "id": "_L8yuTPNfpeP",
        "colab": {
          "base_uri": "https://localhost:8080/"
        },
        "outputId": "ce98c1bf-c71b-44b2-8827-4e8fbf090995"
      },
      "execution_count": null,
      "outputs": [
        {
          "output_type": "stream",
          "name": "stdout",
          "text": [
            "{2, 3, 5, 7, 11}\n"
          ]
        }
      ]
    },
    {
      "cell_type": "code",
      "source": [
        "# 22. Check if two sets are identical.\n",
        "set1 = {1, 2, 3, 4, 5}\n",
        "set2 = {3, 1, 5, 2, 4, 6, 7, 8}\n",
        "\n",
        "if set1 == set2 :\n",
        "  print(\"the sets are identical\")\n",
        "else:\n",
        "  print(\"the sets are not idntical\")"
      ],
      "metadata": {
        "id": "lkO-HKe_frkM",
        "colab": {
          "base_uri": "https://localhost:8080/"
        },
        "outputId": "abd5b8c6-fdac-4363-b93d-1a6c27fe712a"
      },
      "execution_count": null,
      "outputs": [
        {
          "output_type": "stream",
          "name": "stdout",
          "text": [
            "the sets are not idntical\n"
          ]
        }
      ]
    },
    {
      "cell_type": "code",
      "source": [
        "# 23 Create a frozen set.\n",
        "\n",
        "list1 = [1,2,3,4,5,6,7,8]\n",
        "\n",
        "my_frozen_set = frozenset(list1)\n",
        "print(my_frozen_set)"
      ],
      "metadata": {
        "id": "41mxF0Umf62e",
        "colab": {
          "base_uri": "https://localhost:8080/"
        },
        "outputId": "0e6a6a9c-18a7-4094-e2ed-4b9513a78cc2"
      },
      "execution_count": null,
      "outputs": [
        {
          "output_type": "stream",
          "name": "stdout",
          "text": [
            "frozenset({1, 2, 3, 4, 5, 6, 7, 8})\n"
          ]
        }
      ]
    },
    {
      "cell_type": "code",
      "source": [
        "# 24 Check if a set is disjoint with another set.\n",
        "set1 = {10, 20, 30, 40}\n",
        "set2 = {50, 60, 70, 80}\n",
        "\n",
        "disjoint_status = set1.isdisjoint(set2)\n",
        "\n",
        "print(disjoint_status)"
      ],
      "metadata": {
        "id": "px87mp0rf9pj",
        "colab": {
          "base_uri": "https://localhost:8080/"
        },
        "outputId": "c8def4a4-a058-4c3e-d81a-beeaaa39e165"
      },
      "execution_count": null,
      "outputs": [
        {
          "output_type": "stream",
          "name": "stdout",
          "text": [
            "True\n"
          ]
        }
      ]
    },
    {
      "cell_type": "code",
      "source": [
        "# 25 Create a set of squares of numbers from 1 to 5.\n",
        "\n",
        "square_set = set()\n",
        "\n",
        "for num in range(1,6):\n",
        "  square = num**2\n",
        "\n",
        "  square_set.add(square)\n",
        "\n",
        "print(square_set)\n"
      ],
      "metadata": {
        "id": "eGoKWl46f_7D",
        "colab": {
          "base_uri": "https://localhost:8080/"
        },
        "outputId": "ac1e61b5-3780-4e5e-8162-0b6288e1351a"
      },
      "execution_count": null,
      "outputs": [
        {
          "output_type": "stream",
          "name": "stdout",
          "text": [
            "{1, 4, 9, 16, 25}\n"
          ]
        }
      ]
    },
    {
      "cell_type": "code",
      "source": [
        "# 26 Filter out all even numbers from a set.\n",
        "\n",
        "set1 = {1,2,3,4,5}\n",
        "\n",
        "even_number_set = set()\n",
        "\n",
        "for num in set1:\n",
        "  if num % 2 == 0:\n",
        "    even_number_set.add(num)\n",
        "\n",
        "print(set1)\n",
        "print(even_number_set)"
      ],
      "metadata": {
        "id": "JTEMHC29gCL2",
        "colab": {
          "base_uri": "https://localhost:8080/"
        },
        "outputId": "e0278212-4976-44af-a798-45388b0369e4"
      },
      "execution_count": null,
      "outputs": [
        {
          "output_type": "stream",
          "name": "stdout",
          "text": [
            "{1, 2, 3, 4, 5}\n",
            "{2, 4}\n"
          ]
        }
      ]
    },
    {
      "cell_type": "code",
      "source": [
        "# 27. Multiply all elements in a set by 2\n",
        "\n",
        "set1 = {1,2,3,4,5}\n",
        "\n",
        "multiplied_set = set()\n",
        "\n",
        "for num in set1:\n",
        "  multiplied_num = num * 2\n",
        "\n",
        "  multiplied_set.add(multiplied_num)\n",
        "\n",
        "print(set1)\n",
        "print(multiplied_set)"
      ],
      "metadata": {
        "id": "VjjCQR_tgFav",
        "colab": {
          "base_uri": "https://localhost:8080/"
        },
        "outputId": "ea29cbe0-acfd-48c7-ddfc-b34f04ae3c34"
      },
      "execution_count": null,
      "outputs": [
        {
          "output_type": "stream",
          "name": "stdout",
          "text": [
            "{1, 2, 3, 4, 5}\n",
            "{2, 4, 6, 8, 10}\n"
          ]
        }
      ]
    },
    {
      "cell_type": "code",
      "source": [
        "# 28. Create a set of random numbers.\n",
        "\n",
        "import random\n",
        "\n",
        "num_random_numbers = 5\n",
        "\n",
        "random_number_set = set()\n",
        "\n",
        "for _ in range(num_random_numbers):\n",
        "  random_num = random.randint(1,100)\n",
        "  random_number_set.add(random_num)\n",
        "\n",
        "print(random_number_set)"
      ],
      "metadata": {
        "id": "GQFjUzzJgHjA",
        "colab": {
          "base_uri": "https://localhost:8080/"
        },
        "outputId": "1e0ffb2a-daa2-4c14-f39e-d0ca29ae30be"
      },
      "execution_count": null,
      "outputs": [
        {
          "output_type": "stream",
          "name": "stdout",
          "text": [
            "{99, 12, 81, 17, 95}\n"
          ]
        }
      ]
    },
    {
      "cell_type": "code",
      "source": [
        "# 29. Check if a set is empty.\n",
        "\n",
        "set1 = set()\n",
        "if not set1:\n",
        "  print(\"set is empty\")\n",
        "else:\n",
        "  print(\"set is not empty\")\n"
      ],
      "metadata": {
        "id": "wMrXx24tgJVq",
        "colab": {
          "base_uri": "https://localhost:8080/"
        },
        "outputId": "185f6a8f-ccae-4aa3-8503-24ff98fff7d5"
      },
      "execution_count": null,
      "outputs": [
        {
          "output_type": "stream",
          "name": "stdout",
          "text": [
            "set is empty\n"
          ]
        }
      ]
    },
    {
      "cell_type": "code",
      "source": [
        "# 30. Create a nested set (hint: use frozenset).\n",
        "set1 = {1,2,3,4,5}\n",
        "set2 = {6,7,8,9,10}\n",
        "\n",
        "frozen_set1 = frozenset(set1)\n",
        "frozen_set2 = frozenset(set2)\n",
        "\n",
        "nested_set = {frozen_set1, frozen_set2}\n",
        "print(nested_set)"
      ],
      "metadata": {
        "id": "e7Rcw-p4gRrB",
        "colab": {
          "base_uri": "https://localhost:8080/"
        },
        "outputId": "988e045f-94b5-47ca-ba1a-607aa5013aee"
      },
      "execution_count": null,
      "outputs": [
        {
          "output_type": "stream",
          "name": "stdout",
          "text": [
            "{frozenset({1, 2, 3, 4, 5}), frozenset({6, 7, 8, 9, 10})}\n"
          ]
        }
      ]
    },
    {
      "cell_type": "code",
      "source": [
        "# 31. Remove an element from a set using the discard method.\n",
        "\n",
        "set1 = {1,2,3,4,5}\n",
        "print(set1)\n",
        "element_to_remove\n",
        "set1.discard(element_to_remove)\n",
        "print(set1)"
      ],
      "metadata": {
        "id": "h9YfuWpngUum",
        "colab": {
          "base_uri": "https://localhost:8080/"
        },
        "outputId": "410d53bb-a9aa-43da-b220-97adf128fdd6"
      },
      "execution_count": null,
      "outputs": [
        {
          "output_type": "stream",
          "name": "stdout",
          "text": [
            "{1, 2, 3, 4, 5}\n",
            "{1, 2, 4, 5}\n"
          ]
        }
      ]
    },
    {
      "cell_type": "code",
      "source": [
        "# 32. Compare two sets.\n",
        "\n",
        "set1 = {1,2,3,4,5}\n",
        "set2 = {4,5,6,7,8}\n",
        "\n",
        "is_subset = set1.issubset(set2)\n",
        "is_superset = set1.issuperset(set2)\n",
        "intersection = set1.intersection(set2)\n",
        "\n",
        "union = set1.union(set2)\n",
        "difference1 = set1.difference(set2)\n",
        "\n",
        "difference2 = set2.difference(set1)\n",
        "\n",
        "print(set1)\n",
        "print(set2)\n",
        "print(is_subset)\n",
        "print(is_superset)\n",
        "print(intersection)\n",
        "print(union)\n",
        "print(difference1)\n",
        "print(difference2)"
      ],
      "metadata": {
        "id": "3dwezhZXgW_I",
        "colab": {
          "base_uri": "https://localhost:8080/"
        },
        "outputId": "de8872c8-aabd-442c-a349-da691b99ce44"
      },
      "execution_count": null,
      "outputs": [
        {
          "output_type": "stream",
          "name": "stdout",
          "text": [
            "{1, 2, 3, 4, 5}\n",
            "{4, 5, 6, 7, 8}\n",
            "False\n",
            "False\n",
            "{4, 5}\n",
            "{1, 2, 3, 4, 5, 6, 7, 8}\n",
            "{1, 2, 3}\n",
            "{8, 6, 7}\n"
          ]
        }
      ]
    },
    {
      "cell_type": "code",
      "source": [
        "# 33. Create a set from a string\n",
        "\n",
        "input_string = \"hello\"\n",
        "\n",
        "char_set = set(input_string)\n",
        "\n",
        "print(char_set)"
      ],
      "metadata": {
        "id": "NB5nY_BygaR6",
        "colab": {
          "base_uri": "https://localhost:8080/"
        },
        "outputId": "32b689dd-3135-48fe-d7a3-59899ccdf878"
      },
      "execution_count": null,
      "outputs": [
        {
          "output_type": "stream",
          "name": "stdout",
          "text": [
            "{'l', 'e', 'h', 'o'}\n"
          ]
        }
      ]
    },
    {
      "cell_type": "code",
      "source": [
        "# 34. Convert a set of strings to a set of integers\n",
        "\n",
        "string_set = {\"123\", \"456\", \"789\"}\n",
        "\n",
        "integer_set = set()\n",
        "\n",
        "for string in string_set:\n",
        "  integer_value = int(string)\n",
        "\n",
        "  integer_set.add(integer_value)\n",
        "\n",
        "print(integer_set)"
      ],
      "metadata": {
        "id": "pjQDb3crgcBO",
        "colab": {
          "base_uri": "https://localhost:8080/"
        },
        "outputId": "fb685249-3a79-4217-deb0-0546d1fe3a37"
      },
      "execution_count": null,
      "outputs": [
        {
          "output_type": "stream",
          "name": "stdout",
          "text": [
            "{456, 123, 789}\n"
          ]
        }
      ]
    },
    {
      "cell_type": "code",
      "source": [
        "# 35. Convert a set of integers to a set of strings.\n",
        "integers_set = {456, 123, 789}\n",
        "\n",
        "strings_set = set()\n",
        "\n",
        "for num in integers_set:\n",
        "  num_str = str(num)\n",
        "\n",
        "  strings_set.add(num_str)\n",
        "\n",
        "print(integers_set)\n",
        "print(strings_set)"
      ],
      "metadata": {
        "id": "5i8vw2ougd6H",
        "colab": {
          "base_uri": "https://localhost:8080/"
        },
        "outputId": "c6188451-68a8-4c39-af8b-09e26a0a14b1"
      },
      "execution_count": null,
      "outputs": [
        {
          "output_type": "stream",
          "name": "stdout",
          "text": [
            "{456, 123, 789}\n",
            "{'123', '789', '456'}\n"
          ]
        }
      ]
    },
    {
      "cell_type": "code",
      "source": [
        "# 36. Create a set from a tuple\n",
        "\n",
        "input_tuple = (1,2,3,4,5,6,7,8)\n",
        "\n",
        "output_set = set(input_tuple)\n",
        "\n",
        "print(output_set)"
      ],
      "metadata": {
        "id": "-uI1o5uQgf4D",
        "colab": {
          "base_uri": "https://localhost:8080/"
        },
        "outputId": "639adb42-ccb7-4175-b110-30d54304a1a2"
      },
      "execution_count": null,
      "outputs": [
        {
          "output_type": "stream",
          "name": "stdout",
          "text": [
            "{1, 2, 3, 4, 5, 6, 7, 8}\n"
          ]
        }
      ]
    },
    {
      "cell_type": "code",
      "source": [
        "# 37. Convert a set to a tuple.\n",
        "set1 = {1, 2, 3, 4, 5, 6, 7, 8}\n",
        "\n",
        "tuple1 = tuple(set1)\n",
        "\n",
        "print(tuple1)"
      ],
      "metadata": {
        "id": "3zRjcMvqgio1",
        "colab": {
          "base_uri": "https://localhost:8080/"
        },
        "outputId": "b5955809-f4a0-4f0f-abac-27d025d31d84"
      },
      "execution_count": null,
      "outputs": [
        {
          "output_type": "stream",
          "name": "stdout",
          "text": [
            "(1, 2, 3, 4, 5, 6, 7, 8)\n"
          ]
        }
      ]
    },
    {
      "cell_type": "code",
      "source": [
        "# 38. Find the maximum value in a set\n",
        "\n",
        "set1 = {12, 24, 56, 47, 2}\n",
        "\n",
        "max_value = None\n",
        "\n",
        "for num in set1:\n",
        "  if max_value is None or num>max_value:\n",
        "    max_value = num\n",
        "print(max_value)"
      ],
      "metadata": {
        "id": "i2C-lpR-gkrP",
        "colab": {
          "base_uri": "https://localhost:8080/"
        },
        "outputId": "e5656cac-3429-44f0-f8b5-1220f8c45d99"
      },
      "execution_count": null,
      "outputs": [
        {
          "output_type": "stream",
          "name": "stdout",
          "text": [
            "56\n"
          ]
        }
      ]
    },
    {
      "cell_type": "code",
      "source": [
        "# 39. Find the minimum value in a set.\n",
        "\n",
        "set1 = {12, 24, 56, 47, 5}\n",
        "\n",
        "min_value = None\n",
        "\n",
        "for num in set1 :\n",
        "  if min_value is None or num<min_value:\n",
        "    min_value = num\n",
        "print(min_value)\n",
        "\n"
      ],
      "metadata": {
        "id": "2Wwt741IgmX-"
      },
      "execution_count": null,
      "outputs": []
    },
    {
      "cell_type": "code",
      "source": [
        "# 40. Create a set from user input.\n",
        "\n",
        "user_set = set()\n",
        "print(\"\")\n",
        "while True:\n",
        "  user_input = input(\" > \")\n",
        "\n",
        "  if user_input.lower() == 'done':\n",
        "    break\n",
        "  user_set.add(user_input)\n",
        "\n",
        "print(user_set)"
      ],
      "metadata": {
        "id": "1TfJigErgoUy"
      },
      "execution_count": null,
      "outputs": []
    },
    {
      "cell_type": "code",
      "source": [],
      "metadata": {
        "id": "gURE8UiiTxFr"
      },
      "execution_count": null,
      "outputs": []
    }
  ]
}